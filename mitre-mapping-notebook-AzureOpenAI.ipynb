{
  "cells": [
    {
      "cell_type": "markdown",
      "source": [
        "# Building a Mitre Attack Navigator Layer and TTPs Timeline using Azure OpenAI\n",
        "# Visualizing Cyber Threat Data leveraging LLM\n",
        "\n",
        "__Notebook Version:__ 0.1 <br>\n",
        "__Notebook Author:__ [Antonio Formato](https://www.linkedin.com/in/antonioformato/)<br>\n",
        "__Inspired by:__ [Oleksiy Meletskiy](https://www.linkedin.com/in/alecm/)<br>\n",
        "\n",
        "\n",
        "__Python Version:__ >=Python 3.8<br>\n",
        "\n",
        "__Data Source Required:__ None<br>\n",
        "\n",
        "__GPU Compute Required:__ No<br>\n",
        "\n",
        "__Python Packages:__ \n",
        "- requests\n",
        "- BeautifulSoup (bs4)\n",
        "- pandas\n",
        "- os\n",
        "- json\n",
        "- uuid\n",
        "- BlobServiceClient (azure.storage.blob)\n",
        "- DefaultAzureCredential (azure.identity)\n",
        "- IFrame (IPython.display)\n",
        "- base64\n",
        "- Image (IPython.display)\n",
        "- display (IPython.display)\n",
        "- matplotlib.pyplot\n",
        "\n",
        "## Prerequisites\n",
        "**Please do not run the notebook cells all at once**. The cells need to be run sequentially and successfully executed before proceeding with the remainder of the notebook.\n",
        "\n",
        "Make sure you have all the necessary libraries; use 'pip install' to install any missing ones.\n",
        "\n",
        "**Notice** To integrate the Mitre Attack Navigator, this notebook uses **Azure Blob Storage**: See paragraphs 5 and 6.\n",
        "\n",
        "## Overview\n",
        "\n",
        "Jupyter Notebook is a powerful tool that allows you to create and share documents that contain both code and rich text elements, such as figures, links, equations, etc. This versatility makes it a go-to tool for tasks that require iterative development and data exploration.\n",
        "\n",
        "One of the fascinating applications of Jupyter Notebook is in the field of Cybersecurity, where it can be used to **visualize cyber threat data**. This involves creating an interactive Mitre Attack Navigator Layer and TTPs (Tactics, Techniques, and Procedures) Timeline using Azure OpenAI.\n",
        "\n",
        "The process involves several steps, including building a web scraper for blog post data, leveraging Azure OpenAI for TTPs extraction, providing a Mitre Attack Layer JSON file, uploading to Mitre Attack Navigator, displaying the Mitre Attack Navigator Layer, generating an attack timeline with Mermaid, and visualizing the attack path.\n",
        "\n",
        "<div style=\"color: Black; background-color: LightGreen; padding: 10px; font-size: 18px; line-height: 1.4;\">\n",
        "    <p>The notebook begins by <u>extracting insights from a blog post</u> using a web scraper. The scraped <u>blog post is then analyzed to extract TTPs</u> related to cybersecurity. The extracted TTPs are then used to <u>create a Mitre Attack Layer JSON file</u>. This file is then uploaded to the <u>Mitre Attack Navigator for visualization</u>. Finally, <u>the attack path is visualized</u> using a Mermaid.js timeline graph.</p>\n",
        "</div>\n",
        "\n",
        "This notebook stands as an **example of how Jupyter Notebook, coupled with Azure OpenAI, can be used to visualize complex data such as cyber threat data**. The resulting visualizations not only provide a clear picture of the threat landscape but also help in making informed decisions and strategies to counter the threats.\n",
        "\n",
        "## Table of Contents\n",
        "\n",
        "1. **Extracting Insights** - Building a Web Scraper for Blog Post Data\n",
        "2. **Revealing Content** - Printing the Scraped Blog Post\n",
        "3. **Analyzing Cyber Threats** - Leveraging Azure OpenAI for TTPs Extraction\n",
        "4. **Mitre Attack Navigator** Providing Mitre Attack Layer JSON File\n",
        "5. **Navigating Threats** - Uploading to Mitre Attack Navigator\n",
        "6. **Visualizing Threat** Landscape - Displaying Mitre Attack Navigator Layer\n",
        "7. **Unveiling Tactics** - Generating an Attack Timeline with Mermaid"
      ],
      "metadata": {
        "nteract": {
          "transient": {
            "deleting": false
          }
        },
        "run_control": {
          "frozen": false
        },
        "editable": true
      }
    },
    {
      "cell_type": "markdown",
      "source": [
        "**Initialization**\n",
        "\n",
        "Please install required python package listed in the description above (pip install packages)."
      ],
      "metadata": {
        "nteract": {
          "transient": {
            "deleting": false
          }
        }
      }
    },
    {
      "cell_type": "markdown",
      "source": [
        "## 1 **Extracting Insights** - Building a Web Scraper for Blog Post Data\n",
        "\n",
        "This section implements a web scraper to extract text content from a specified blog post URL (infosec writeup). \n",
        "\n",
        "Utilizing the requests library and BeautifulSoup (bs4), the code ensures successful retrieval of data before proceeding with the extraction.\n",
        "\n",
        "Example url: [https://blog.talosintelligence.com/lazarus_new_rats_dlang_and_telegram/](https://blog.talosintelligence.com/lazarus_new_rats_dlang_and_telegram/)"
      ],
      "metadata": {
        "nteract": {
          "transient": {
            "deleting": false
          }
        }
      }
    },
    {
      "cell_type": "code",
      "source": [
        "#Web scraper\n",
        "import requests\n",
        "from bs4 import BeautifulSoup\n",
        "import pandas as pd\n",
        "\n",
        "def scrape_text(url):\n",
        "    # Send a GET request to the URL\n",
        "    response = requests.get(url)\n",
        "\n",
        "    # If the GET request is successful, the status code will be 200\n",
        "    if response.status_code == 200:\n",
        "        # Get the content of the response\n",
        "        page_content = response.content\n",
        "        # Create a BeautifulSoup object and specify the parser\n",
        "        soup = BeautifulSoup(page_content, \"html.parser\")\n",
        "        # Get the text of the soup object\n",
        "        text = soup.get_text()\n",
        "        # Return the text\n",
        "        return text\n",
        "    else:\n",
        "        return \"Failed to scrape the website\"\n",
        "\n",
        "# Enter site\n",
        "print(\"Enter blog post writeup url\")\n",
        "url = input()\n",
        "\n",
        "text = scrape_text(url)"
      ],
      "outputs": [
        {
          "output_type": "stream",
          "name": "stdout",
          "text": "Enter blog post writeup url\n"
        }
      ],
      "execution_count": 1,
      "metadata": {
        "jupyter": {
          "source_hidden": false,
          "outputs_hidden": false
        },
        "nteract": {
          "transient": {
            "deleting": false
          }
        },
        "gather": {
          "logged": 1705616373922
        }
      }
    },
    {
      "cell_type": "markdown",
      "source": [
        "## 2 (Optional) **Revealing Content** - Printing the Scraped Blog Post\n",
        "\n",
        "Following the web scraping, this section prints the extracted blog post text. It serves as a quick check to verify the successful retrieval and display of the scraped content\n"
      ],
      "metadata": {
        "nteract": {
          "transient": {
            "deleting": false
          }
        }
      }
    },
    {
      "cell_type": "code",
      "source": [
        "#print scraped post\n",
        "print(text)"
      ],
      "outputs": [
        {
          "output_type": "stream",
          "name": "stdout",
          "text": "\n\n\nOperation Blacksmith: Lazarus targets organizations worldwide using novel Telegram-based malware written in DLang..."
        }
      ],
      "execution_count": 2,
      "metadata": {
        "jupyter": {
          "source_hidden": false,
          "outputs_hidden": false
        },
        "nteract": {
          "transient": {
            "deleting": false
          }
        },
        "gather": {
          "logged": 1705616374148
        }
      }
    },
    {
      "cell_type": "markdown",
      "source": [
        "## 3 **Analyzing Cyber Threats** - Leveraging Azure OpenAI for TTPs Extraction\n",
        "\n",
        "Using Azure OpenAI, this section extracts Tactics, Techniques, and Procedures (TTPs) related to cybersecurity from the previously scraped text. \n",
        "\n",
        "It leverages the power of Large Language Models to analyze and generate a table summarizing the identified cyber threat intelligence.\n",
        "\n",
        "<div style=\"color: Black; background-color: LightGoldenRodYellow; padding: 10px; font-size: 18px; line-height: 1.4;\">\n",
        "    <p>Make sure you have defined a .env file with all the following data:</p>\n",
        "    <ul style=\"font-size: 14px;\">\n",
        "        <li>AZURE_OPENAI_KEY</li>\n",
        "        <li>AZURE_OPENAI_ENDPOINT</li>\n",
        "        <li>DEPLOYMENT_NAME</li>\n",
        "    </ul>\n",
        "</div>\n",
        "\n",
        "<div style=\"border: solid; padding: 5pt\">\n",
        "<b>Notes: </b>\n",
        "<p>Azure OpenAI, through the default prompt in the code, extracts a table with TTPs from the writeup text.</p>\n",
        "</div>"
      ],
      "metadata": {
        "nteract": {
          "transient": {
            "deleting": false
          }
        }
      }
    },
    {
      "cell_type": "code",
      "source": [
        "#Provide TTPs table from article\n",
        "import os\n",
        "from openai import AzureOpenAI\n",
        "from dotenv import load_dotenv\n",
        "\n",
        "load_dotenv(\"[YOUR ENV FILE].env\")\n",
        "\n",
        "# Set up OpenAI client\n",
        "client = AzureOpenAI(\n",
        "  azure_endpoint = os.getenv(\"AZURE_OPENAI_ENDPOINT\"), \n",
        "  api_key=os.getenv(\"AZURE_OPENAI_KEY\"),  \n",
        "  api_version=\"2023-05-15\"\n",
        "\n",
        ")\n",
        "\n",
        "#Function to provide TTPs (tactics and techniques) table from the scraped text\n",
        "def ttp(text):\n",
        "  response = client.chat.completions.create(\n",
        "      model=os.getenv(\"DEPLOYMENT_NAME\"), # model = \"deployment_name\"\n",
        "      messages=[\n",
        "          {\"role\": \"system\", \"content\": \"You are an AI assistant expert in cybersecurity, threat intelligence, and Mitre attack, assisting Infosec professionals in understanding cyber attacks.\"},\n",
        "          {\"role\": \"user\", \"content\": f\"With reference to ATT&CK Matrix for Enterprise extract TTPs (tactics and techniques) from text at the end of following prompt. For each techniques try to provide techniqueID, tactic, comment if you can get relevant content from text, producing a table with following columns:  technique, technique ID, tactic, comment. Text to work with: {text}\"}\n",
        "      ]\n",
        "  )\n",
        "\n",
        "  return response.choices[0].message.content\n",
        "\n",
        "ttptable = ttp(text)\n",
        "print(ttptable)"
      ],
      "outputs": [
        {
          "output_type": "stream",
          "name": "stdout",
          "text": "| Technique                                           | Technique ID | Tactic                | Comment                                                                                                                                                                        |\n|----------------------------------------------------|--------------|-----------------------|--------------------------------------------------------------------------------------------------------------------------------------------------------------------------------|\n| Custom Command and Control Protocol                | T1094        | Command and Control   | The threat actor(s) utilized custom command and control protocols via Telegram to take control of the infected systems.                                                        |\n| Domain Generation Algorithms                       | T1568        | Command and Control   | The threat actor(s) used DGA to evade detection and hide their command and control servers.                                                                                    |\n| Credential Dumping                                 | T1003        | Credential Access     | The threat actor(s) used built-in Windows utilities to dump credentials.                                                                                                       |\n| Remote Access Tools                                | T1219        | Command and Control   | RATs \"NineRAT\" and \"DLRAT\" were used by Lazarus group to get control over the compromised system.                                                                              |\n| Command and Scripting Interpreter: PowerShell      | T1059.001    | Execution             | PowerShell was used to download and execute files from a remote host such as HazyLoad and BottomLoader.                                                                         |\n| System Information Discovery                       | T1082        | Discovery             | The malware used the system information discovery technique to fetch information from the infected system.                                                                     |\n| File and Directory Discovery                       | T1083        | Discovery             | A RAT named DLRAT has been used to execute \"ver\", \"whoami\", \"getmac\" system-related commands over the compromised system. |\n| Exploit Public-Facing Application                  | T1190        | Initial Access        | Lazarus group exploited CVE-2021-44228 (Log4j) for initial access to the vulnerable public-facing servers.                                                                     |\n| Account Creation                                   | T1136        | Persistence           | The threat group created a user account with administrative rights to ensure persistent access.                                                                                 |\n| Graphical User Interface                           | T1061        | Execution             | Lazarus group used a graphical user interface to perform their hands-on-keyboard activities.                                                                                    |\n| Remote System Discovery                            | T1018        | Discovery             | Lazarus group used built-in Windows utilities to discover remote systems.                                                                                                      |\n| Use Alternate Authentication Material: Token       | T1550.002    | Defense Evasion       | The NineRAT malware included the functionality to set a new Bot token.                                                                                                         |\n| Data Encoding                                      | T1132        | Exfiltration          | NineRAT interacts with the Telegram channel using DLang-based libraries implemented to talk to Telegram’s APIs.                                                                 |\n| Impair Defenses: Disable or Modify Tools           | T1562.001    | Defense Evasion       | Actor groups modified malware payloads to escape host-based security measures.                                                                                                |\n| Boot or Logon Autostart Execution: Shortcut Modification | T1547.009 | Persistence           | The \"BottomLoader\", malware variant used by Lazarus, created an .url shorcut in startup directory to get persistence.                                                           |\n| Modify Registry                                    | T1112        | Defense Evasion       | Lazarus group modified the registry to dump credentials.                                                                                                                       |\n| Application Layer Protocol                         | T1071        | Command and Control   | Lazarus group used the application layer protocol to communicate with its command and control servers.                                                                         |\n"
        }
      ],
      "execution_count": 3,
      "metadata": {
        "jupyter": {
          "source_hidden": false,
          "outputs_hidden": false
        },
        "nteract": {
          "transient": {
            "deleting": false
          }
        },
        "gather": {
          "logged": 1705506838325
        }
      }
    },
    {
      "cell_type": "markdown",
      "source": [
        "## 4 **Mitre Attack Navigator** Providing Mitre Attack Layer JSON File\n",
        "This section focuses on the creation and provision of a Mitre Attack Layer JSON file, incorporating Tactics, Techniques, and Procedures (TTPs) identified in a cyber threat scenario. \n",
        "\n",
        "Leveraging Azure OpenAI capabilities, the code generates a JSON file formatted for MITRE ATT&CK Navigator, facilitating the visualization of cyber threat data. The included TTPs are extracted from the provided prompt table, resulting in a detailed and actionable representation of the threat landscape.\n",
        "\n",
        "Note: Ensure that the provided '_ttptable_' variable contains valid Tactics, Techniques, and Procedures extracted from the cyber threat intelligence analysis section.\n",
        "\n",
        "\n",
        "<div style=\"border: solid; padding: 5pt\">\n",
        "<b>Notes: </b>\n",
        "<p>The prompt uses the one-shot example technique with the information provided by variables 'prompt_response' and 'prompt_table', which you can read in the code below. Feel free to modify to experiment with different approaches..</p>\n",
        "</div>"
      ],
      "metadata": {
        "nteract": {
          "transient": {
            "deleting": false
          }
        }
      }
    },
    {
      "cell_type": "code",
      "source": [
        "#provide Mitre Attack layer json file\n",
        "import os\n",
        "import json\n",
        "from openai import AzureOpenAI\n",
        "from uuid import uuid4\n",
        "from dotenv import load_dotenv\n",
        "\n",
        "load_dotenv(\"[YOUR ENV FILE].env\")\n",
        "\n",
        "client = AzureOpenAI(\n",
        "  azure_endpoint = os.getenv(\"AZURE_OPENAI_ENDPOINT\"), \n",
        "  api_key=os.getenv(\"AZURE_OPENAI_KEY\"),  \n",
        "  api_version=\"2023-05-15\"\n",
        ")\n",
        "\n",
        "prompt_table = \"\"\"\n",
        "| Technique                                | Technique ID | Tactic           | Comment                                                                                                      |\n",
        "|------------------------------------------|--------------|------------------|--------------------------------------------------------------------------------------------------------------|\n",
        "| Used CVE-2021-44228 for initial access.   | T1190        | Initial Access   | Used CVE-2021-44228 to exploit publicly exposed servers for initial access.                                  |\n",
        "| Used commands and scripts for execution.  | T1059        | Execution        | Used commands and scripts (like PowerShell and BAT) to execute different operations.                         |\n",
        "| Used NineRAT for persistence.             | T1543        | Persistence      | Used NineRAT to set up persistence by creating services using BAT scripts.                                     |\n",
        "| NineRAT dropper deletes itself for defense evasion. | T1140 | Defense Evasion  | NineRAT has a dropper binary containing two other components, written to disk, and the dropper deletes itself to avoid detection. |\n",
        "| Used Telegram for command and control.   | T1102        | Command and Control | Used Telegram bots and channels for C2 communications.                                                       |\n",
        "| Used commands for system information discovery. | T1082 | Discovery        | Used commands like \"whoami,\" \"ver,\" \"getmac\" for system information discovery.                                |\n",
        "| Used NineRAT for data collection.         | T1005        | Collection       | NineRAT is used to collect data from the local system.                                                        |\n",
        "\"\"\"\n",
        "\n",
        "prompt_response = \"\"\"\n",
        "{\n",
        "  \"name\": \"Lazarus Group TTPs\",\n",
        "  \"versions\": {\n",
        "    \"attack\": \"14\",\n",
        "    \"navigator\": \"4.9.1\",\n",
        "    \"layer\": \"4.5\"\n",
        "  },\n",
        "  \"domain\": \"enterprise-attack\",\n",
        "  \"description\": \"TTPs identified in Lazarus Group's Operation Blacksmith\",\n",
        "  \"filters\": {\n",
        "    \"platforms\": [\"windows\"]\n",
        "  },\n",
        "  \"sorting\": 0,\n",
        "  \"layout\": {\n",
        "    \"layout\": \"side\",\n",
        "    \"aggregateFunction\": \"average\",\n",
        "    \"showID\": false,\n",
        "    \"showName\": true,\n",
        "    \"showAggregateScores\": false,\n",
        "    \"countUnscored\": false,\n",
        "    \"expandedSubtechniques\": \"none\"\n",
        "  },\n",
        "  \"hideDisabled\": false,\n",
        "  \"techniques\": [\n",
        "    {\n",
        "      \"techniqueID\": \"T1190\",\n",
        "      \"tactic\": \"initial-access\",\n",
        "      \"color\": \"\",\n",
        "      \"comment\": \"Used CVE-2021-44228 to exploit publicly exposed servers for initial access.\",\n",
        "      \"enabled\": true,\n",
        "      \"metadata\": [],\n",
        "      \"links\": [],\n",
        "      \"showSubtechniques\": false\n",
        "    },\n",
        "    {\n",
        "      \"techniqueID\": \"T1059\",\n",
        "      \"tactic\": \"execution\",\n",
        "      \"color\": \"\",\n",
        "      \"comment\": \"Used commands and scripts (like PowerShell and BAT) to execute different operations\",\n",
        "      \"enabled\": true,\n",
        "      \"metadata\": [],\n",
        "      \"links\": [],\n",
        "      \"showSubtechniques\": false\n",
        "    },\n",
        "    {\n",
        "      \"techniqueID\": \"T1543\",\n",
        "      \"tactic\": \"persistence\",\n",
        "      \"color\": \"\",\n",
        "      \"comment\": \"Used NineRAT to set up persistence by creating services using BAT scripts.\",\n",
        "      \"enabled\": true,\n",
        "      \"metadata\": [],\n",
        "      \"links\": [],\n",
        "      \"showSubtechniques\": false\n",
        "    },\n",
        "    {\n",
        "      \"techniqueID\": \"T1140\",\n",
        "      \"tactic\": \"defense-evasion\",\n",
        "      \"color\": \"\",\n",
        "      \"comment\": \"NineRAT has a dropper binary containing two other components, which are written to disk and the dropper deletes itself to avoid detection.\",\n",
        "      \"enabled\": true,\n",
        "      \"metadata\": [],\n",
        "      \"links\": [],\n",
        "      \"showSubtechniques\": false\n",
        "    },\n",
        "    {\n",
        "      \"techniqueID\": \"T1102\",\n",
        "      \"tactic\": \"command-and-control\",\n",
        "      \"color\": \"\",\n",
        "      \"comment\": \"Used Telegram bots and channels for C2 communications.\",\n",
        "      \"enabled\": true,\n",
        "      \"metadata\": [],\n",
        "      \"links\": [],\n",
        "      \"showSubtechniques\": false\n",
        "    },\n",
        "    {\n",
        "      \"techniqueID\": \"T1082\",\n",
        "      \"tactic\": \"discovery\",\n",
        "      \"color\": \"\",\n",
        "      \"comment\": \"Used commands like \\\"whoami\\\", \\\"ver\\\", \\\"getmac\\\" for system information discovery.\",\n",
        "      \"enabled\": true,\n",
        "      \"metadata\": [],\n",
        "      \"links\": [],\n",
        "      \"showSubtechniques\": false\n",
        "    },\n",
        "    {\n",
        "      \"techniqueID\": \"T1005\",\n",
        "      \"tactic\": \"collection\",\n",
        "      \"color\": \"\",\n",
        "      \"comment\": \"NineRAT is used to collect data from the local system.\",\n",
        "      \"enabled\": true,\n",
        "      \"metadata\": [],\n",
        "      \"links\": [],\n",
        "      \"showSubtechniques\": false\n",
        "    }\n",
        "  ],\n",
        "  \"gradient\": {\n",
        "    \"colors\": [\"#ff6666\", \"#ffe766\", \"#8ec843\"],\n",
        "    \"minValue\": 0,\n",
        "    \"maxValue\": 100\n",
        "  },\n",
        "  \"legendItems\": [],\n",
        "  \"metadata\": [],\n",
        "  \"links\": [],\n",
        "  \"showTacticRowBackground\": false,\n",
        "  \"tacticRowBackground\": \"#dddddd\"\n",
        "}\n",
        "\"\"\"\n",
        "\n",
        "#Function to provide ATT&CK Matrix for Enterprise layer json file\n",
        "def attack_layer(ttptable):\n",
        "  response = client.chat.completions.create(\n",
        "      model=os.getenv(\"DEPLOYMENT_NAME\"), # model = \"deployment_name\" \n",
        "      messages=[\n",
        "                  {\n",
        "                      \"role\": \"system\",\n",
        "                      \"content\": f\"You are tasked with creating an ATT&CK Matrix for Enterprise layer json file with attack version 14, navigator 4.9.1, layer version 4.5 to load a layer in MITRE ATT&CK Navigator. Use {ttptable} as input. Print just json content, avoiding ncluding any additional text in the response. In domain filed use enterprise-attack.\"\n",
        "                  },\n",
        "                  {\n",
        "                      \"role\":\"user\",\n",
        "                      \"content\":f\"Title:  Enterprise techniques used by 2015 Ukraine Electric Power Attack, ATT&CK campaign C0028 (v1.0): Table: {prompt_table}\"\n",
        "                  },\n",
        "                  {\n",
        "                      \"role\":\"assistant\",\n",
        "                      \"content\":f\"{prompt_response}\"\n",
        "                  }\n",
        "              ]\n",
        "  )\n",
        "  return response.choices[0].message.content\n",
        "\n",
        "mitre_layer = attack_layer(ttptable)\n",
        "print(mitre_layer)\n",
        "\n",
        "# Generate a unique ID for the file name\n",
        "unique_id = str(uuid4())\n",
        "\n",
        "# Define the file path with a unique ID\n",
        "file_path = os.path.join(\"mitrelayers\", f\"mitre-attack-navigator-{unique_id}.json\")\n",
        "\n",
        "# Write ttptable content to the file\n",
        "with open(file_path, 'w') as json_file:\n",
        "    json_file.write(mitre_layer)\n",
        "\n",
        "# Print the file path for reference\n",
        "print(f\"Content written to: {file_path}\")"
      ],
      "outputs": [
        {
          "output_type": "stream",
          "name": "stdout",
          "text": "{\n  \"versions\": {\n    \"navigator\": \"4.9.1\",\n    \"layer\": \"4.5\",\n    \"attack\": \"14\"\n  },\n  \"name\": \"Lazarus_Group_TTPs\",\n  \"domain\": \"enterprise-attack\",\n  \"techniques\": [\n    {\n      \"techniqueID\": \"T1094\",\n      \"tactic\": \"command-and-control\",\n      \"comment\": \"The threat actor(s) utilized custom command and control protocols via Telegram to take control of the infected systems.\",\n      \"enabled\": true\n    },\n    {\n      \"techniqueID\": \"T1568\",\n      \"tactic\": \"command-and-control\",\n      \"comment\": \"The threat actor(s) used DGA to evade detection and hide their command and control servers.\",\n      \"enabled\": true\n    },\n    {\n      \"techniqueID\": \"T1003\",\n      \"tactic\": \"credential-access\",\n      \"comment\": \"The threat actor(s) used built-in Windows utilities to dump credentials.\",\n      \"enabled\": true\n    },\n    {\n      \"techniqueID\": \"T1219\",\n      \"tactic\": \"command-and-control\",\n      \"comment\": \"RATs \\\"NineRAT\\\" and \\\"DLRAT\\\" were used by Lazarus group to get control over the compromised system.\",\n      \"enabled\": true\n    },\n    {\n      \"techniqueID\": \"T1059.001\",\n      \"tactic\": \"execution\",\n      \"comment\": \"PowerShell was used to download and execute files from a remote host such as HazyLoad and BottomLoader.\",\n      \"enabled\": true\n    },\n    {\n      \"techniqueID\": \"T1082\",\n      \"tactic\": \"discovery\",\n      \"comment\": \"The malware used the system information discovery technique to fetch information from the infected system.\",\n      \"enabled\": true\n    },\n    {\n      \"techniqueID\": \"T1083\",\n      \"tactic\": \"discovery\",\n      \"comment\": \"A RAT named DLRAT has been used to execute \\\"ver\\\", \\\"whoami\\\", \\\"getmac\\\" system-related commands over the compromised system.\",\n      \"enabled\": true\n    },\n    {\n      \"techniqueID\": \"T1190\",\n      \"tactic\": \"initial-access\",\n      \"comment\": \"Lazarus group exploited CVE-2021-44228 (Log4j) for initial access to the vulnerable public-facing servers.\",\n      \"enabled\": true\n    },\n    {\n      \"techniqueID\": \"T1136\",\n      \"tactic\": \"persistence\",\n      \"comment\": \"The threat group created a user account with administrative rights to ensure persistent access.\",\n      \"enabled\": true\n    },\n    {\n      \"techniqueID\": \"T1061\",\n      \"tactic\": \"execution\",\n      \"comment\": \"Lazarus group used a graphical user interface to perform their hands-on-keyboard activities.\",\n      \"enabled\": true\n    },\n    {\n      \"techniqueID\": \"T1018\",\n      \"tactic\": \"discovery\",\n      \"comment\": \"Lazarus group used built-in Windows utilities to discover remote systems.\",\n      \"enabled\": true\n    },\n    {\n      \"techniqueID\": \"T1550.002\",\n      \"tactic\": \"defense-evasion\",\n      \"comment\": \"The NineRAT malware included the functionality to set a new Bot token.\",\n      \"enabled\": true\n    },\n    {\n      \"techniqueID\": \"T1132\",\n      \"tactic\": \"exfiltration\",\n      \"comment\": \"NineRAT interacts with the Telegram channel using DLang-based libraries implemented to talk to Telegram’s APIs.\",\n      \"enabled\": true\n    },\n    {\n      \"techniqueID\": \"T1562.001\",\n      \"tactic\": \"defense-evasion\",\n      \"comment\": \"Actor groups modified malware payloads to escape host-based security measures.\",\n      \"enabled\": true\n    },\n    {\n      \"techniqueID\": \"T1547.009\",\n      \"tactic\": \"persistence\",\n      \"comment\": \"The \\\"BottomLoader\\\", malware variant used by Lazarus, created an .url shorcut in startup directory to get persistence.\",\n      \"enabled\": true\n    },\n    {\n      \"techniqueID\": \"T1112\",\n      \"tactic\": \"defense-evasion\",\n      \"comment\": \"Lazarus group modified the registry to dump credentials.\",\n      \"enabled\": true\n    },\n    {\n      \"techniqueID\": \"T1071\",\n      \"tactic\": \"command-and-control\",\n      \"comment\": \"Lazarus group used the application layer protocol to communicate with its command and control servers.\",\n      \"enabled\": true\n    }\n  ],\n  \"gradient\": {\n    \"colors\": [\n      \"#ffffff\",\n      \"#66ffff\",\n      \"#0000ff\"\n    ],\n    \"minValue\": 0,\n    \"maxValue\": 100\n  },\n  \"metadata\": [],\n  \"enabled\": true\n}\nContent written to: mitrelayers/mitre-attack-navigator-664f28d5-c70b-439f-bf60-92d49a218dca.json\n"
        }
      ],
      "execution_count": 4,
      "metadata": {
        "jupyter": {
          "source_hidden": false,
          "outputs_hidden": false
        },
        "nteract": {
          "transient": {
            "deleting": false
          }
        },
        "gather": {
          "logged": 1705507023914
        },
        "collapsed": false
      }
    },
    {
      "cell_type": "markdown",
      "source": [
        "## 5 **Navigating Threats** - Uploading to Mitre Attack Navigator\n",
        "\n",
        "In this part, the code handles the integration of cyber threat intelligence by uploading the generated MITRE ATT&CK® Navigator Layer to Azure Blob Storage. \n",
        "This step is reuired for sharing and visualizing threat data across different platforms.\n",
        "\n",
        "The ATT&CK Navigator is a web-based tool for annotating and exploring ATT&CK matrices. It can be used to visualize defensive coverage, red/blue team planning, the frequency of detected techniques, and more. \n",
        "\n",
        "The most effective and fast way I found to visualize the MITRE ATT&CK® Navigator Layer in the notebook was to publish the JSON file (representing the Mitre layer) to Azure Storage Account and load the layer directly onto the online tool [https://mitre-attack.github.io/attack-navigator/](https://mitre-attack.github.io/attack-navigator/). \n",
        "\n",
        "<div style=\"border: solid; padding: 5pt\">\n",
        "<b>Notes: </b>\n",
        "<p>It is recommended to modify the connection parameters of your Storage Account.</p>\n",
        "</div>\n",
        "\n",
        "<div style=\"color: Black; background-color: LightGoldenRodYellow; padding: 10px; font-size: 18px; line-height: 1.4;\">\n",
        "    <p>Make sure you have defined a .env file with all the following data:</p>\n",
        "    <ul style=\"font-size: 14px;\">\n",
        "        <li>AZURE_CLIENT_ID</li>\n",
        "        <li>AZURE_TENANT_ID</li>\n",
        "        <li>AZURE_CLIENT_SECRET</li>\n",
        "    </ul>\n",
        "</div>"
      ],
      "metadata": {
        "nteract": {
          "transient": {
            "deleting": false
          }
        }
      }
    },
    {
      "cell_type": "code",
      "source": [
        "#Upload of the previously defined Mitre Attack Navigator layer. \n",
        "from azure.storage.blob import BlobServiceClient\n",
        "from azure.identity import DefaultAzureCredential\n",
        "from dotenv import load_dotenv\n",
        "import os\n",
        "\n",
        "print(\"Loading environment variables from .env file\")\n",
        "load_dotenv(\"[YOUR ENV FILE].env\")\n",
        "\n",
        "# Create a credential object\n",
        "credential = DefaultAzureCredential()\n",
        "\n",
        "# Specify the URL of the Azure Storage account\n",
        "account_url = \"https://YOURBLOBURL.blob.core.windows.net/\"\n",
        "\n",
        "# Create a blob service client using account_url\n",
        "blob_service_client = BlobServiceClient(account_url=account_url, credential=credential)\n",
        "\n",
        "# Upload the file to a container named \"layers\"\n",
        "# Blob Storage container name\n",
        "container_name = \"layers\"\n",
        "\n",
        "# Blob name and local file path\n",
        "blob_name = f\"mitre-attack-navigator-{unique_id}.json\"\n",
        "local_file_path = os.path.join(\"mitrelayers\", f\"mitre-attack-navigator-{unique_id}.json\")\n",
        "print(blob_name)\n",
        "\n",
        "try:\n",
        "    # Upload the file\n",
        "    with open(local_file_path, \"rb\") as f:\n",
        "        blob_client = blob_service_client.get_blob_client(container=container_name, blob=blob_name)\n",
        "        blob_client.upload_blob(f.read())\n",
        "\n",
        "    # Check if the file has been uploaded\n",
        "    exists = blob_client.exists()\n",
        "    print(f\"File {blob_name} uploaded successfully: {exists}\")\n",
        "\n",
        "except Exception as e:\n",
        "    # Print the exception details for debugging\n",
        "    print(f\"Error: {e}\")\n",
        "    raise e"
      ],
      "outputs": [
        {
          "output_type": "stream",
          "name": "stdout",
          "text": "Loading environment variables from .env file\nmitre-attack-navigator-664f28d5-c70b-439f-bf60-92d49a218dca.json\nFile mitre-attack-navigator-664f28d5-c70b-439f-bf60-92d49a218dca.json uploaded successfully: True\n"
        }
      ],
      "execution_count": 5,
      "metadata": {
        "jupyter": {
          "source_hidden": false,
          "outputs_hidden": false
        },
        "nteract": {
          "transient": {
            "deleting": false
          }
        },
        "gather": {
          "logged": 1705507077996
        }
      }
    },
    {
      "cell_type": "markdown",
      "source": [
        "## 6 **Visualizing Threat Landscape** - Displaying Mitre Attack Navigator Layer\n",
        "\n",
        "This section employs the IPython IFrame to display the uploaded MITRE ATT&CK® Navigator Layer interactively. \n",
        "\n",
        "It provides a user-friendly interface for exploring and understanding the identified threat landscape.\n"
      ],
      "metadata": {
        "nteract": {
          "transient": {
            "deleting": false
          }
        }
      }
    },
    {
      "cell_type": "code",
      "source": [
        "from IPython.display import IFrame\n",
        "print(f\"mitre-attack-navigator-{unique_id}.json\")\n",
        "# The iframe URL\n",
        "iframe_url = (\n",
        "    \"https://mitre-attack.github.io/attack-navigator/\"\n",
        "    \"#layerURL=https%3A%2F%2Fmitrenavigator.blob.core.windows.net\"\n",
        "    f\"%2Flayers%2F{blob_name}\"\n",
        ")\n",
        "\n",
        "# Create the IFrame\n",
        "iframe = IFrame(src=iframe_url, width=\"100%\", height=600)\n",
        "\n",
        "# Display the IFrame\n",
        "iframe"
      ],
      "outputs": [
        {
          "output_type": "stream",
          "name": "stdout",
          "text": "mitre-attack-navigator-664f28d5-c70b-439f-bf60-92d49a218dca.json\n"
        },
        {
          "output_type": "execute_result",
          "execution_count": 6,
          "data": {
            "text/plain": "<IPython.lib.display.IFrame at 0x7fa3c560f130>",
            "text/html": "\n        <iframe\n            width=\"100%\"\n            height=\"600\"\n            src=\"https://mitre-attack.github.io/attack-navigator/#layerURL=https%3A%2F%2Fmitrenavigator.blob.core.windows.net%2Flayers%2Fmitre-attack-navigator-664f28d5-c70b-439f-bf60-92d49a218dca.json\"\n            frameborder=\"0\"\n            allowfullscreen\n            \n        ></iframe>\n        "
          },
          "metadata": {}
        }
      ],
      "execution_count": 6,
      "metadata": {
        "jupyter": {
          "source_hidden": false,
          "outputs_hidden": false
        },
        "nteract": {
          "transient": {
            "deleting": false
          }
        },
        "gather": {
          "logged": 1705507117077
        }
      }
    },
    {
      "cell_type": "markdown",
      "source": [
        "## 7 **Visualization of the Attack Path** - Generating an Attack Timeline with Mermaid\n",
        "\n",
        "This section is dedicated to visualizing the attack path of a cyber threat. Leveraging Azure OpenAI, the code generates a list of Tactics and Subtactics ordered by execution time based on the provided Threat Intelligence and Tactics, Techniques, and Procedures (TTPs) table. The output is a clear and structured representation of the chronological sequence of cyber threat actions.\n",
        "\n",
        "Following this, the code uses Mermaid.js to create an illustrative timeline graph of the attack stages. The timeline graph is constructed based on the provided TTPs timeline and Mermaid.js code, offering a visual narrative of the key events and tactics employed during the cyber attack. This visualization aids in understanding the progression of the attack, providing valuable insights for threat analysis and mitigation.\n",
        "\n",
        "<div style=\"border: solid; padding: 5pt\">\n",
        "<b>Notes: </b>\n",
        "<p>Ensure that the provided 'text' and 'ttptable' variables contain valid data related to the cyber threat intelligence analysis.</p>\n",
        "</div>\n",
        "\n",
        "The Mermaid.js timeline code generated serves as a visual representation of the attack path and should be used within a compatible environment or viewer that supports Mermaid.js syntax."
      ],
      "metadata": {
        "nteract": {
          "transient": {
            "deleting": false
          }
        }
      }
    },
    {
      "cell_type": "code",
      "source": [
        "#Visualization of the attack path\n",
        "import os\n",
        "from openai import AzureOpenAI\n",
        "from dotenv import load_dotenv\n",
        "\n",
        "load_dotenv(\"[YOUR ENV FILE].env\")\n",
        "\n",
        "# Set up OpenAI client\n",
        "client = AzureOpenAI(\n",
        "  azure_endpoint = os.getenv(\"AZURE_OPENAI_ENDPOINT\"), \n",
        "  api_key=os.getenv(\"AZURE_OPENAI_KEY\"),  \n",
        "  api_version=\"2023-05-15\"\n",
        "\n",
        ")\n",
        "\n",
        "#Function to provide a list of TTPs order by execution time\n",
        "def ttp_list(text, ttptable):\n",
        "    response = client.chat.completions.create(\n",
        "        model=os.getenv(\"DEPLOYMENT_NAME\"), # model = \"deployment_name\"\n",
        "        messages=[\n",
        "            {\"role\": \"system\", \"content\": \"You are an AI assistant expert in cybersecurity, threat intelligence, and Mitre attack, assisting Infosec professionals in understanding cyber attacks.\"},\n",
        "            {\"role\": \"user\", \"content\": f\"Based on {text} and {ttptable} provide a list of TTPs order by execution time, Each line must include only Tactic and Subtactic, IDs between brackets after subtactic.\"}\n",
        "        ]\n",
        "    )\n",
        "\n",
        "    return response.choices[0].message.content\n",
        "\n",
        "attackpath = ttp_list(text, ttptable)\n",
        "print(attackpath)\n",
        "\n",
        "ttps_timeline = \"\"\"\n",
        "1. Initial Access: Exploitation of Remote Services [T1210]\n",
        "2. Execution: Command and Scripting Interpreter: PowerShell [T1059.001]  \n",
        "3. Persistence: External Remote Services [T1133]\n",
        "4. Persistence: Server Software Component: Web Shell [T1505.003]\n",
        "5. Persistence: Account Creation [T1136]\n",
        "6. Defense Evasion: Use Alternate Authentication Material [T1550]\n",
        "7. Defense Evasion: Modify Registry [T1112]\n",
        "8. Defense Evasion: Indicator Removal on Host: File Deletion [T1070.004]\n",
        "9. Credential Access: OS Credential Dumping [T1003]\n",
        "10. Discovery: System Information Discovery [T1082]\n",
        "11. Collection: Data Staged: Local Data Staging [T1074.001]\n",
        "12. Command and Control: Remote Access Tools [-]\n",
        "13. Command and Control: Proxy: Multi-hop Proxy [T1090.003]\n",
        "14. Command and Control: Application Layer Protocol: Web Protocols [T1071.001]\n",
        "15. Command and Control: Ingress Tool Transfer [T1105]\n",
        "16. Impact: Data Encrypted for Impact [T1486]\n",
        "\"\"\"\n",
        "\n",
        "mermaid_timeline = \"\"\"\n",
        "timeline\n",
        "title Lazarus Group Operation Blacksmith\n",
        "    Initial Access\n",
        "    : Exploitation of Remote Services - [T1210]\n",
        "\tExecution\n",
        "    : Command and Scripting Interpreter - PowerShell - [T1059.001]  \n",
        "    Persistence\n",
        "    : External Remote Services - [T1133]\n",
        "\t: Server Software Component - Web Shell - [T1505.003]\n",
        "\t: Account Creation - [T1136]\n",
        "\tDefense Evasion\n",
        "\t: Use Alternate Authentication Material - [T1550]\n",
        "\t: Modify Registry - [T1112]\n",
        "\t: Indicator Removal on Host - File Deletion - [T1070.004]\n",
        "\tCredential Access\n",
        "    : OS Credential Dumping - [T1003]\n",
        "    Discovery\n",
        "    : System Information Discovery - [T1082]\n",
        "    Collection: Data Staged - Local Data Staging - [T1074.001]\n",
        "\tCommand and Control\n",
        "    : Remote Access Tools - [-]\n",
        "    : Proxy Multi-hop Proxy - [T1090.003]\n",
        "    : Application Layer Protocol Web Protocols - [T1071.001]\n",
        "\t: Ingress Tool Transfer - [T1105]\n",
        "    Impact: Data Encrypted for Impact - [T1486]\n",
        "\"\"\"\n",
        "\n",
        "#Function to generate attack timeline Mermaid.jc code \n",
        "def ttp_graph_timeline(ttps_timeline, mermaid_timeline):\n",
        "    response = client.chat.completions.create(\n",
        "        model=\"gpt4-af-demo\", \n",
        "        messages=[\n",
        "                    {\n",
        "                        \"role\":\"user\",\n",
        "                        \"content\":f\"Write a Mermaid.js timeline graph that illustrates the stages of a cyber attack. As an example condider the Lazarus Group's operation named Operation Blacksmith, whose Tactics, Techniques, and Procedures (TTPs) timeline is as follows: {ttps_timeline}, and related meirmad.js code is: {mermaid_timeline}. Use the following guidalines to generate code: \\n1. timeline: This keyword starts the timeline graph definition, \\n2. title: This keyword is followed by the title of the timeline graph, \\n3. Each timeline step is defined on a separate line and starts with a description of the step. The description should be concise and informative, summarizing the key actions or events of the step, \\n4. The description is followed by a colon (:) and then the step details, \\n5. The step details can include any additional information about the step, such as the specific tools or techniques used. \\n6. Optionally, the step details can include a reference to a malleable threat technique ID using square brackets. \\n7 avoid provide days after TTP ID. \\n8 Provide just mermaid.js code without any other text. \\n9 start code with timeline- \\n10 don't use any bracket at the benning and the end of your output \"\n",
        "                    }\n",
        "                ]    \n",
        "    )\n",
        "\n",
        "    return response.choices[0].message.content\n",
        "\n",
        "mermaid_timeline = ttp_graph_timeline(ttps_timeline, mermaid_timeline)\n",
        "print(mermaid_timeline)\n"
      ],
      "outputs": [
        {
          "output_type": "stream",
          "name": "stdout",
          "text": "1. [T1190] Initial Access: Exploit Public-Facing Application\n2. [T1082] Discovery: System Information Discovery\n3. [T1083] Discovery: File and Directory Discovery\n4. [T1136] Persistence: Account Creation\n5. [T1061] Execution: Graphical User Interface\n6. [T1018] Discovery: Remote System Discovery\n7. [T1059.001] Execution: Command and Scripting Interpreter: PowerShell\n8. [T1094] Command and Control: Custom Command and Control Protocol\n9. [T1550.002] Defense Evasion: Use Alternate Authentication Material: Token\n10. [T1132] Exfiltration: Data Encoding\n11. [T1562.001] Defense Evasion: Impair Defenses: Disable or Modify Tools\n12. [T1547.009] Persistence: Boot or Logon Autostart Execution: Shortcut Modification\n13. [T1112] Defense Evasion: Modify Registry\n14. [T1071] Command and Control: Application Layer Protocol\ntimeline\ntitle Operation Blacksmith\n    Initial Access: Exploitation of Remote Services [T1210]\n\tExecution: Command and Scripting Interpreter - PowerShell [T1059.001]  \n\tPersistence: External Remote Services [T1133]\n\tPersistence: Server Software Component - Web Shell [T1505.003]\n\tPersistence: Account Creation [T1136]\n\tDefense Evasion: Use Alternate Authentication Material [T1550]\n\tDefense Evasion: Modify Registry [T1112]\n\tDefense Evasion: Indicator Removal on Host - File Deletion [T1070.004]\n\tCredential Access: OS Credential Dumping [T1003]\n\tDiscovery: System Information Discovery [T1082]\n\tCollection: Data Staged - Local Data Staging [T1074.001]\n\tCommand and Control: Remote Access Tools \n    Command and Control: Proxy - Multi-hop Proxy [T1090.003]\n\tCommand and Control: Application Layer Protocol - Web Protocols [T1071.001]\n\tCommand and Control: Ingress Tool Transfer [T1105]\n\tImpact: Data Encrypted for Impact [T1486]\n"
        }
      ],
      "execution_count": 7,
      "metadata": {
        "jupyter": {
          "source_hidden": false,
          "outputs_hidden": false
        },
        "nteract": {
          "transient": {
            "deleting": false
          }
        },
        "gather": {
          "logged": 1705507246499
        }
      }
    },
    {
      "cell_type": "markdown",
      "source": [
        "## 8 **Cyber Attack Timeline Visualization** using markdown tool\n",
        "\n",
        "This section utilizes Mermaid.js to create an interactive and visually appealing timeline graph representing the stages of a cyber attack. Mermaid is a markdown tool that renders text into diagrams\n",
        "\n",
        "The code takes the generated Mermaid.js timeline code as input and converts it into a base64-encoded image. The resulting image is then displayed using IPython's Image module.\n",
        "\n",
        "The purpose of this code is to provide an interactive and graphical representation of the cyber attack timeline, enhancing the understanding of the chronological sequence of events, tactics, and techniques involved in the cyber threat scenario. The visualization aids cybersecurity professionals and analysts in comprehending the flow of the attack, facilitating more effective threat analysis and response.\n",
        "\n",
        "<div style=\"border: solid; padding: 5pt\">\n",
        "<b>Notes: </b>\n",
        "<p>Ensure that the mermaid_timeline variable contains valid Mermaid.js code generated from the previous sections of the notebook. The code is designed to be executed in a Jupyter Notebook environment, leveraging the capabilities of IPython to display the generated timeline image.</p>\n",
        "</div>"
      ],
      "metadata": {
        "nteract": {
          "transient": {
            "deleting": false
          }
        }
      }
    },
    {
      "cell_type": "code",
      "source": [
        "#Mermaid.js cyber attack timeline\n",
        "import base64\n",
        "from IPython.display import Image, display\n",
        "import matplotlib.pyplot as plt\n",
        "\n",
        "def generate_timeline(graph):\n",
        "    graphbytes = graph.encode(\"utf8\")\n",
        "    base64_bytes = base64.b64encode(graphbytes)\n",
        "    base64_string = base64_bytes.decode(\"ascii\")\n",
        "    display(Image(url=\"https://mermaid.ink/img/\" + base64_string))\n",
        "\n",
        "generate_timeline(mermaid_timeline)"
      ],
      "outputs": [
        {
          "output_type": "display_data",
          "data": {
            "text/html": "<img src=\"https://mermaid.ink/img/dGltZWxpbmUKdGl0bGUgT3BlcmF0aW9uIEJsYWNrc21pdGgKICAgIEluaXRpYWwgQWNjZXNzOiBFeHBsb2l0YXRpb24gb2YgUmVtb3RlIFNlcnZpY2VzIFtUMTIxMF0KCUV4ZWN1dGlvbjogQ29tbWFuZCBhbmQgU2NyaXB0aW5nIEludGVycHJldGVyIC0gUG93ZXJTaGVsbCBbVDEwNTkuMDAxXSAgCglQZXJzaXN0ZW5jZTogRXh0ZXJuYWwgUmVtb3RlIFNlcnZpY2VzIFtUMTEzM10KCVBlcnNpc3RlbmNlOiBTZXJ2ZXIgU29mdHdhcmUgQ29tcG9uZW50IC0gV2ViIFNoZWxsIFtUMTUwNS4wMDNdCglQZXJzaXN0ZW5jZTogQWNjb3VudCBDcmVhdGlvbiBbVDExMzZdCglEZWZlbnNlIEV2YXNpb246IFVzZSBBbHRlcm5hdGUgQXV0aGVudGljYXRpb24gTWF0ZXJpYWwgW1QxNTUwXQoJRGVmZW5zZSBFdmFzaW9uOiBNb2RpZnkgUmVnaXN0cnkgW1QxMTEyXQoJRGVmZW5zZSBFdmFzaW9uOiBJbmRpY2F0b3IgUmVtb3ZhbCBvbiBIb3N0IC0gRmlsZSBEZWxldGlvbiBbVDEwNzAuMDA0XQoJQ3JlZGVudGlhbCBBY2Nlc3M6IE9TIENyZWRlbnRpYWwgRHVtcGluZyBbVDEwMDNdCglEaXNjb3Zlcnk6IFN5c3RlbSBJbmZvcm1hdGlvbiBEaXNjb3ZlcnkgW1QxMDgyXQoJQ29sbGVjdGlvbjogRGF0YSBTdGFnZWQgLSBMb2NhbCBEYXRhIFN0YWdpbmcgW1QxMDc0LjAwMV0KCUNvbW1hbmQgYW5kIENvbnRyb2w6IFJlbW90ZSBBY2Nlc3MgVG9vbHMgCiAgICBDb21tYW5kIGFuZCBDb250cm9sOiBQcm94eSAtIE11bHRpLWhvcCBQcm94eSBbVDEwOTAuMDAzXQoJQ29tbWFuZCBhbmQgQ29udHJvbDogQXBwbGljYXRpb24gTGF5ZXIgUHJvdG9jb2wgLSBXZWIgUHJvdG9jb2xzIFtUMTA3MS4wMDFdCglDb21tYW5kIGFuZCBDb250cm9sOiBJbmdyZXNzIFRvb2wgVHJhbnNmZXIgW1QxMTA1XQoJSW1wYWN0OiBEYXRhIEVuY3J5cHRlZCBmb3IgSW1wYWN0IFtUMTQ4Nl0=\"/>",
            "text/plain": "<IPython.core.display.Image object>"
          },
          "metadata": {}
        }
      ],
      "execution_count": 8,
      "metadata": {
        "jupyter": {
          "source_hidden": false,
          "outputs_hidden": false
        },
        "nteract": {
          "transient": {
            "deleting": false
          }
        },
        "gather": {
          "logged": 1705507268519
        }
      }
    },
    {
      "cell_type": "markdown",
      "source": [
        "The features of this Jupyter Notebook will soon be added to the **TI Mindmap** tool. \n",
        "If you want to learn more:\n",
        "- Tool: [https://ti-mindmap-gpt.streamlit.app/](https://ti-mindmap-gpt.streamlit.app/)\n",
        "- GitHub: [https://github.com/format81/TI-Mindmap-GPT](https://github.com/format81/TI-Mindmap-GPT)\n",
        "- Blog posts:\n",
        "    - [Introducing TI Mindmap GPT](https://medium.com/@antonio.formato/introducing-ti-mindmap-gpt-6f433f140488)\n",
        "    - [Enhancing Cyber Threat Intelligence with TI Mindmap GPT: Integration of Azure OpenAI and advanced features](https://medium.com/microsoftazure/enhancing-cyber-threat-intelligence-with-ti-mindmap-gpt-integration-of-azure-openai-and-advanced-94121ed66ac4)\n",
        "\n",
        "<div style=\"color: Black; background-color: LightGreen; padding: 10px; font-size: 18px; line-height: 1.4;\">\n",
        "    <p>I hope you find this interesting. If you’ve found this Notebook useful, I invite you to contribute and add a star on <a href=\"https://github.com/format81/mitre-threat-visualization-azure-openai/\" style=\"color: #0077b5; text-decoration: underline;\" target=\"_blank\">GitHub</a> and follow me on <a href=\"https://www.linkedin.com/in/antonioformato/\" style=\"color: #0077b5; text-decoration: underline;\" target=\"_blank\">LinkedIn</a>.</p>\n",
        "</div>"
      ],
      "metadata": {
        "nteract": {
          "transient": {
            "deleting": false
          }
        },
        "run_control": {
          "frozen": false
        },
        "editable": true
      }
    }
  ],
  "metadata": {
    "kernelspec": {
      "name": "python38-jupyter",
      "language": "python",
      "display_name": "Python 3.8 - Jupyter"
    },
    "language_info": {
      "name": "python",
      "version": "3.8.5",
      "mimetype": "text/x-python",
      "codemirror_mode": {
        "name": "ipython",
        "version": 3
      },
      "pygments_lexer": "ipython3",
      "nbconvert_exporter": "python",
      "file_extension": ".py"
    },
    "microsoft": {
      "ms_spell_check": {
        "ms_spell_check_language": "en"
      },
      "host": {
        "AzureML": {
          "notebookHasBeenCompleted": true
        }
      }
    },
    "kernel_info": {
      "name": "python38-jupyter"
    },
    "nteract": {
      "version": "nteract-front-end@1.0.0"
    }
  },
  "nbformat": 4,
  "nbformat_minor": 2
}
